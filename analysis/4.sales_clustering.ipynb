{
 "cells": [
  {
   "cell_type": "code",
   "execution_count": 1,
   "id": "6230a251-26b1-4c7b-81b9-125a44014826",
   "metadata": {},
   "outputs": [],
   "source": [
    "import findspark\n",
    "findspark.init()\n",
    "import pyspark"
   ]
  },
  {
   "cell_type": "code",
   "execution_count": 2,
   "id": "b3808e0c-27f2-4b5e-8033-979a891f7e64",
   "metadata": {},
   "outputs": [],
   "source": [
    "from pyspark.sql import SparkSession\n",
    "from pyspark.sql.functions import dayofweek, hour, col, date_format\n",
    "from pyspark.ml.feature import StringIndexer, OneHotEncoder, VectorAssembler, StandardScaler, PCA\n",
    "from pyspark.ml.clustering import KMeans\n",
    "from pyspark.ml.evaluation import ClusteringEvaluator"
   ]
  },
  {
   "cell_type": "code",
   "execution_count": 3,
   "id": "b4c9ac19-cd85-4c0d-9001-c800e16c2138",
   "metadata": {},
   "outputs": [],
   "source": [
    "from sklearn.decomposition import PCA as sk_PCA\n",
    "import matplotlib.pyplot as plt\n",
    "import seaborn as sns\n",
    "import pandas as pd"
   ]
  },
  {
   "cell_type": "code",
   "execution_count": 4,
   "id": "8e1122f4-7f9b-4550-ba30-0343f37fc91d",
   "metadata": {},
   "outputs": [
    {
     "name": "stderr",
     "output_type": "stream",
     "text": [
      "24/07/30 07:02:32 WARN Utils: Your hostname, MacBook-Pro-de-Julia.local resolves to a loopback address: 127.0.0.1; using 192.168.1.8 instead (on interface en0)\n",
      "24/07/30 07:02:32 WARN Utils: Set SPARK_LOCAL_IP if you need to bind to another address\n",
      "Ivy Default Cache set to: /Users/kikuye/.ivy2/cache\n",
      "The jars for the packages stored in: /Users/kikuye/.ivy2/jars\n",
      "com.crealytics#spark-excel_2.12 added as a dependency\n",
      ":: resolving dependencies :: org.apache.spark#spark-submit-parent-ac7923e7-9b9a-45c8-a7e0-4e135698b069;1.0\n",
      "\tconfs: [default]\n"
     ]
    },
    {
     "name": "stdout",
     "output_type": "stream",
     "text": [
      ":: loading settings :: url = jar:file:/opt/spark-3.5.1/jars/ivy-2.5.1.jar!/org/apache/ivy/core/settings/ivysettings.xml\n"
     ]
    },
    {
     "name": "stderr",
     "output_type": "stream",
     "text": [
      "\tfound com.crealytics#spark-excel_2.12;0.13.5 in central\n",
      "\tfound org.apache.poi#poi;4.1.2 in central\n",
      "\tfound commons-codec#commons-codec;1.13 in central\n",
      "\tfound org.apache.commons#commons-collections4;4.4 in central\n",
      "\tfound org.apache.commons#commons-math3;3.6.1 in central\n",
      "\tfound com.zaxxer#SparseBitSet;1.2 in central\n",
      "\tfound org.apache.poi#poi-ooxml;4.1.2 in central\n",
      "\tfound org.apache.poi#poi-ooxml-schemas;4.1.2 in central\n",
      "\tfound org.apache.xmlbeans#xmlbeans;3.1.0 in central\n",
      "\tfound com.github.virtuald#curvesapi;1.06 in central\n",
      "\tfound com.norbitltd#spoiwo_2.12;1.7.0 in central\n",
      "\tfound org.scala-lang.modules#scala-xml_2.12;1.2.0 in central\n",
      "\tfound com.github.pjfanning#excel-streaming-reader;2.3.4 in central\n",
      "\tfound com.github.pjfanning#poi-shared-strings;1.0.4 in central\n",
      "\tfound com.h2database#h2;1.4.200 in central\n",
      "\tfound org.apache.commons#commons-text;1.8 in central\n",
      "\tfound org.apache.commons#commons-lang3;3.9 in central\n",
      "\tfound xml-apis#xml-apis;1.4.01 in central\n",
      "\tfound org.slf4j#slf4j-api;1.7.30 in central\n",
      "\tfound org.apache.commons#commons-compress;1.20 in central\n",
      "\tfound com.fasterxml.jackson.core#jackson-core;2.8.8 in central\n",
      ":: resolution report :: resolve 266ms :: artifacts dl 7ms\n",
      "\t:: modules in use:\n",
      "\tcom.crealytics#spark-excel_2.12;0.13.5 from central in [default]\n",
      "\tcom.fasterxml.jackson.core#jackson-core;2.8.8 from central in [default]\n",
      "\tcom.github.pjfanning#excel-streaming-reader;2.3.4 from central in [default]\n",
      "\tcom.github.pjfanning#poi-shared-strings;1.0.4 from central in [default]\n",
      "\tcom.github.virtuald#curvesapi;1.06 from central in [default]\n",
      "\tcom.h2database#h2;1.4.200 from central in [default]\n",
      "\tcom.norbitltd#spoiwo_2.12;1.7.0 from central in [default]\n",
      "\tcom.zaxxer#SparseBitSet;1.2 from central in [default]\n",
      "\tcommons-codec#commons-codec;1.13 from central in [default]\n",
      "\torg.apache.commons#commons-collections4;4.4 from central in [default]\n",
      "\torg.apache.commons#commons-compress;1.20 from central in [default]\n",
      "\torg.apache.commons#commons-lang3;3.9 from central in [default]\n",
      "\torg.apache.commons#commons-math3;3.6.1 from central in [default]\n",
      "\torg.apache.commons#commons-text;1.8 from central in [default]\n",
      "\torg.apache.poi#poi;4.1.2 from central in [default]\n",
      "\torg.apache.poi#poi-ooxml;4.1.2 from central in [default]\n",
      "\torg.apache.poi#poi-ooxml-schemas;4.1.2 from central in [default]\n",
      "\torg.apache.xmlbeans#xmlbeans;3.1.0 from central in [default]\n",
      "\torg.scala-lang.modules#scala-xml_2.12;1.2.0 from central in [default]\n",
      "\torg.slf4j#slf4j-api;1.7.30 from central in [default]\n",
      "\txml-apis#xml-apis;1.4.01 from central in [default]\n",
      "\t:: evicted modules:\n",
      "\torg.apache.commons#commons-compress;1.19 by [org.apache.commons#commons-compress;1.20] in [default]\n",
      "\t---------------------------------------------------------------------\n",
      "\t|                  |            modules            ||   artifacts   |\n",
      "\t|       conf       | number| search|dwnlded|evicted|| number|dwnlded|\n",
      "\t---------------------------------------------------------------------\n",
      "\t|      default     |   22  |   0   |   0   |   1   ||   21  |   0   |\n",
      "\t---------------------------------------------------------------------\n",
      ":: retrieving :: org.apache.spark#spark-submit-parent-ac7923e7-9b9a-45c8-a7e0-4e135698b069\n",
      "\tconfs: [default]\n",
      "\t0 artifacts copied, 21 already retrieved (0kB/5ms)\n",
      "24/07/30 07:02:33 WARN NativeCodeLoader: Unable to load native-hadoop library for your platform... using builtin-java classes where applicable\n",
      "Setting default log level to \"WARN\".\n",
      "To adjust logging level use sc.setLogLevel(newLevel). For SparkR, use setLogLevel(newLevel).\n"
     ]
    }
   ],
   "source": [
    "# Adiciona o pacote spark-excel ao iniciar a sessão Spark\n",
    "spark = SparkSession.builder \\\n",
    "    .appName(\"Clustering\") \\\n",
    "    .config(\"spark.jars.packages\", \"com.crealytics:spark-excel_2.12:0.13.5\") \\\n",
    "    .config(\"spark.executor.memory\", \"4g\") \\\n",
    "    .config(\"spark.driver.memory\", \"4g\") \\\n",
    "    .config(\"spark.driver.maxResultSize\", \"2g\") \\\n",
    "    .getOrCreate()"
   ]
  },
  {
   "cell_type": "code",
   "execution_count": 5,
   "id": "4df3a9d3-b002-445c-88c1-072f1559bc6c",
   "metadata": {},
   "outputs": [
    {
     "name": "stderr",
     "output_type": "stream",
     "text": [
      "                                                                                \r"
     ]
    }
   ],
   "source": [
    "# Carrega o arquivo Excel diretamente para um DataFrame do Spark\n",
    "file_path = '../data/Coffee Shop Sales.xlsx'\n",
    "spark_df = spark.read \\\n",
    "    .format(\"com.crealytics.spark.excel\") \\\n",
    "    .option(\"header\", \"true\") \\\n",
    "    .option(\"inferSchema\", \"true\") \\\n",
    "    .load(file_path)"
   ]
  },
  {
   "cell_type": "code",
   "execution_count": 6,
   "id": "740d49c1-9db4-4a8e-a8c7-05c8640277fb",
   "metadata": {},
   "outputs": [
    {
     "name": "stderr",
     "output_type": "stream",
     "text": [
      "24/07/30 07:02:44 WARN GarbageCollectionMetrics: To enable non-built-in garbage collector(s) List(G1 Concurrent GC), users should configure it(them) to spark.eventLog.gcMetrics.youngGenerationGarbageCollectors or spark.eventLog.gcMetrics.oldGenerationGarbageCollectors\n",
      "24/07/30 07:02:50 WARN TaskSetManager: Stage 1 contains a task of very large size (2706 KiB). The maximum recommended task size is 1000 KiB.\n",
      "                                                                                \r"
     ]
    },
    {
     "data": {
      "text/html": [
       "<div>\n",
       "<style scoped>\n",
       "    .dataframe tbody tr th:only-of-type {\n",
       "        vertical-align: middle;\n",
       "    }\n",
       "\n",
       "    .dataframe tbody tr th {\n",
       "        vertical-align: top;\n",
       "    }\n",
       "\n",
       "    .dataframe thead th {\n",
       "        text-align: right;\n",
       "    }\n",
       "</style>\n",
       "<table border=\"1\" class=\"dataframe\">\n",
       "  <thead>\n",
       "    <tr style=\"text-align: right;\">\n",
       "      <th></th>\n",
       "      <th>transaction_id</th>\n",
       "      <th>transaction_date</th>\n",
       "      <th>transaction_time</th>\n",
       "      <th>transaction_qty</th>\n",
       "      <th>store_id</th>\n",
       "      <th>store_location</th>\n",
       "      <th>product_id</th>\n",
       "      <th>unit_price</th>\n",
       "      <th>product_category</th>\n",
       "      <th>product_type</th>\n",
       "      <th>product_detail</th>\n",
       "    </tr>\n",
       "  </thead>\n",
       "  <tbody>\n",
       "    <tr>\n",
       "      <th>0</th>\n",
       "      <td>1.0</td>\n",
       "      <td>2023-01-01</td>\n",
       "      <td>1899-12-31 07:06:39</td>\n",
       "      <td>2.0</td>\n",
       "      <td>5.0</td>\n",
       "      <td>Lower Manhattan</td>\n",
       "      <td>32.0</td>\n",
       "      <td>3.0</td>\n",
       "      <td>Coffee</td>\n",
       "      <td>Gourmet brewed coffee</td>\n",
       "      <td>Ethiopia Rg</td>\n",
       "    </tr>\n",
       "    <tr>\n",
       "      <th>1</th>\n",
       "      <td>2.0</td>\n",
       "      <td>2023-01-01</td>\n",
       "      <td>1899-12-31 07:09:24</td>\n",
       "      <td>2.0</td>\n",
       "      <td>5.0</td>\n",
       "      <td>Lower Manhattan</td>\n",
       "      <td>57.0</td>\n",
       "      <td>3.1</td>\n",
       "      <td>Tea</td>\n",
       "      <td>Brewed Chai tea</td>\n",
       "      <td>Spicy Eye Opener Chai Lg</td>\n",
       "    </tr>\n",
       "    <tr>\n",
       "      <th>2</th>\n",
       "      <td>3.0</td>\n",
       "      <td>2023-01-01</td>\n",
       "      <td>1899-12-31 07:14:32</td>\n",
       "      <td>2.0</td>\n",
       "      <td>5.0</td>\n",
       "      <td>Lower Manhattan</td>\n",
       "      <td>59.0</td>\n",
       "      <td>4.5</td>\n",
       "      <td>Drinking Chocolate</td>\n",
       "      <td>Hot chocolate</td>\n",
       "      <td>Dark chocolate Lg</td>\n",
       "    </tr>\n",
       "    <tr>\n",
       "      <th>3</th>\n",
       "      <td>4.0</td>\n",
       "      <td>2023-01-01</td>\n",
       "      <td>1899-12-31 07:20:52</td>\n",
       "      <td>1.0</td>\n",
       "      <td>5.0</td>\n",
       "      <td>Lower Manhattan</td>\n",
       "      <td>22.0</td>\n",
       "      <td>2.0</td>\n",
       "      <td>Coffee</td>\n",
       "      <td>Drip coffee</td>\n",
       "      <td>Our Old Time Diner Blend Sm</td>\n",
       "    </tr>\n",
       "    <tr>\n",
       "      <th>4</th>\n",
       "      <td>5.0</td>\n",
       "      <td>2023-01-01</td>\n",
       "      <td>1899-12-31 07:23:09</td>\n",
       "      <td>2.0</td>\n",
       "      <td>5.0</td>\n",
       "      <td>Lower Manhattan</td>\n",
       "      <td>57.0</td>\n",
       "      <td>3.1</td>\n",
       "      <td>Tea</td>\n",
       "      <td>Brewed Chai tea</td>\n",
       "      <td>Spicy Eye Opener Chai Lg</td>\n",
       "    </tr>\n",
       "  </tbody>\n",
       "</table>\n",
       "</div>"
      ],
      "text/plain": [
       "   transaction_id transaction_date    transaction_time  transaction_qty  \\\n",
       "0             1.0       2023-01-01 1899-12-31 07:06:39              2.0   \n",
       "1             2.0       2023-01-01 1899-12-31 07:09:24              2.0   \n",
       "2             3.0       2023-01-01 1899-12-31 07:14:32              2.0   \n",
       "3             4.0       2023-01-01 1899-12-31 07:20:52              1.0   \n",
       "4             5.0       2023-01-01 1899-12-31 07:23:09              2.0   \n",
       "\n",
       "   store_id   store_location  product_id  unit_price    product_category  \\\n",
       "0       5.0  Lower Manhattan        32.0         3.0              Coffee   \n",
       "1       5.0  Lower Manhattan        57.0         3.1                 Tea   \n",
       "2       5.0  Lower Manhattan        59.0         4.5  Drinking Chocolate   \n",
       "3       5.0  Lower Manhattan        22.0         2.0              Coffee   \n",
       "4       5.0  Lower Manhattan        57.0         3.1                 Tea   \n",
       "\n",
       "            product_type               product_detail  \n",
       "0  Gourmet brewed coffee                  Ethiopia Rg  \n",
       "1        Brewed Chai tea     Spicy Eye Opener Chai Lg  \n",
       "2          Hot chocolate            Dark chocolate Lg  \n",
       "3            Drip coffee  Our Old Time Diner Blend Sm  \n",
       "4        Brewed Chai tea     Spicy Eye Opener Chai Lg  "
      ]
     },
     "execution_count": 6,
     "metadata": {},
     "output_type": "execute_result"
    }
   ],
   "source": [
    "spark_df.limit(5).toPandas()"
   ]
  },
  {
   "cell_type": "code",
   "execution_count": 9,
   "id": "12f07ee4-d402-49df-9f74-d24b1450324b",
   "metadata": {},
   "outputs": [],
   "source": [
    "# Extrai a parte do tempo corretamente da coluna `transaction_time`\n",
    "spark_df = spark_df.withColumn('transaction_time', date_format(col('transaction_time'), 'HH:mm:ss'))\n",
    "\n",
    "# Cria colunas day_of_week e hour_of_day\n",
    "spark_df = spark_df.withColumn('day_of_week', dayofweek(col('transaction_date')))\n",
    "spark_df = spark_df.withColumn('hour_of_day', hour(col('transaction_time')))\n",
    "\n",
    "# Cria coluna total_value\n",
    "spark_df = spark_df.withColumn('total_value', col('transaction_qty') * col('unit_price'))"
   ]
  },
  {
   "cell_type": "code",
   "execution_count": 10,
   "id": "a7aa2a8e-2e68-4f92-960f-becf1b397c3d",
   "metadata": {},
   "outputs": [
    {
     "name": "stderr",
     "output_type": "stream",
     "text": [
      "24/07/30 07:03:38 WARN TaskSetManager: Stage 3 contains a task of very large size (2706 KiB). The maximum recommended task size is 1000 KiB.\n"
     ]
    },
    {
     "data": {
      "text/html": [
       "<div>\n",
       "<style scoped>\n",
       "    .dataframe tbody tr th:only-of-type {\n",
       "        vertical-align: middle;\n",
       "    }\n",
       "\n",
       "    .dataframe tbody tr th {\n",
       "        vertical-align: top;\n",
       "    }\n",
       "\n",
       "    .dataframe thead th {\n",
       "        text-align: right;\n",
       "    }\n",
       "</style>\n",
       "<table border=\"1\" class=\"dataframe\">\n",
       "  <thead>\n",
       "    <tr style=\"text-align: right;\">\n",
       "      <th></th>\n",
       "      <th>transaction_id</th>\n",
       "      <th>transaction_date</th>\n",
       "      <th>transaction_time</th>\n",
       "      <th>transaction_qty</th>\n",
       "      <th>store_id</th>\n",
       "      <th>store_location</th>\n",
       "      <th>product_id</th>\n",
       "      <th>unit_price</th>\n",
       "      <th>product_category</th>\n",
       "      <th>product_type</th>\n",
       "      <th>product_detail</th>\n",
       "      <th>day_of_week</th>\n",
       "      <th>hour_of_day</th>\n",
       "      <th>total_value</th>\n",
       "    </tr>\n",
       "  </thead>\n",
       "  <tbody>\n",
       "    <tr>\n",
       "      <th>0</th>\n",
       "      <td>1.0</td>\n",
       "      <td>2023-01-01</td>\n",
       "      <td>07:06:11</td>\n",
       "      <td>2.0</td>\n",
       "      <td>5.0</td>\n",
       "      <td>Lower Manhattan</td>\n",
       "      <td>32.0</td>\n",
       "      <td>3.0</td>\n",
       "      <td>Coffee</td>\n",
       "      <td>Gourmet brewed coffee</td>\n",
       "      <td>Ethiopia Rg</td>\n",
       "      <td>1</td>\n",
       "      <td>7</td>\n",
       "      <td>6.0</td>\n",
       "    </tr>\n",
       "    <tr>\n",
       "      <th>1</th>\n",
       "      <td>2.0</td>\n",
       "      <td>2023-01-01</td>\n",
       "      <td>07:08:56</td>\n",
       "      <td>2.0</td>\n",
       "      <td>5.0</td>\n",
       "      <td>Lower Manhattan</td>\n",
       "      <td>57.0</td>\n",
       "      <td>3.1</td>\n",
       "      <td>Tea</td>\n",
       "      <td>Brewed Chai tea</td>\n",
       "      <td>Spicy Eye Opener Chai Lg</td>\n",
       "      <td>1</td>\n",
       "      <td>7</td>\n",
       "      <td>6.2</td>\n",
       "    </tr>\n",
       "    <tr>\n",
       "      <th>2</th>\n",
       "      <td>3.0</td>\n",
       "      <td>2023-01-01</td>\n",
       "      <td>07:14:04</td>\n",
       "      <td>2.0</td>\n",
       "      <td>5.0</td>\n",
       "      <td>Lower Manhattan</td>\n",
       "      <td>59.0</td>\n",
       "      <td>4.5</td>\n",
       "      <td>Drinking Chocolate</td>\n",
       "      <td>Hot chocolate</td>\n",
       "      <td>Dark chocolate Lg</td>\n",
       "      <td>1</td>\n",
       "      <td>7</td>\n",
       "      <td>9.0</td>\n",
       "    </tr>\n",
       "    <tr>\n",
       "      <th>3</th>\n",
       "      <td>4.0</td>\n",
       "      <td>2023-01-01</td>\n",
       "      <td>07:20:24</td>\n",
       "      <td>1.0</td>\n",
       "      <td>5.0</td>\n",
       "      <td>Lower Manhattan</td>\n",
       "      <td>22.0</td>\n",
       "      <td>2.0</td>\n",
       "      <td>Coffee</td>\n",
       "      <td>Drip coffee</td>\n",
       "      <td>Our Old Time Diner Blend Sm</td>\n",
       "      <td>1</td>\n",
       "      <td>7</td>\n",
       "      <td>2.0</td>\n",
       "    </tr>\n",
       "    <tr>\n",
       "      <th>4</th>\n",
       "      <td>5.0</td>\n",
       "      <td>2023-01-01</td>\n",
       "      <td>07:22:41</td>\n",
       "      <td>2.0</td>\n",
       "      <td>5.0</td>\n",
       "      <td>Lower Manhattan</td>\n",
       "      <td>57.0</td>\n",
       "      <td>3.1</td>\n",
       "      <td>Tea</td>\n",
       "      <td>Brewed Chai tea</td>\n",
       "      <td>Spicy Eye Opener Chai Lg</td>\n",
       "      <td>1</td>\n",
       "      <td>7</td>\n",
       "      <td>6.2</td>\n",
       "    </tr>\n",
       "  </tbody>\n",
       "</table>\n",
       "</div>"
      ],
      "text/plain": [
       "   transaction_id transaction_date transaction_time  transaction_qty  \\\n",
       "0             1.0       2023-01-01         07:06:11              2.0   \n",
       "1             2.0       2023-01-01         07:08:56              2.0   \n",
       "2             3.0       2023-01-01         07:14:04              2.0   \n",
       "3             4.0       2023-01-01         07:20:24              1.0   \n",
       "4             5.0       2023-01-01         07:22:41              2.0   \n",
       "\n",
       "   store_id   store_location  product_id  unit_price    product_category  \\\n",
       "0       5.0  Lower Manhattan        32.0         3.0              Coffee   \n",
       "1       5.0  Lower Manhattan        57.0         3.1                 Tea   \n",
       "2       5.0  Lower Manhattan        59.0         4.5  Drinking Chocolate   \n",
       "3       5.0  Lower Manhattan        22.0         2.0              Coffee   \n",
       "4       5.0  Lower Manhattan        57.0         3.1                 Tea   \n",
       "\n",
       "            product_type               product_detail  day_of_week  \\\n",
       "0  Gourmet brewed coffee                  Ethiopia Rg            1   \n",
       "1        Brewed Chai tea     Spicy Eye Opener Chai Lg            1   \n",
       "2          Hot chocolate            Dark chocolate Lg            1   \n",
       "3            Drip coffee  Our Old Time Diner Blend Sm            1   \n",
       "4        Brewed Chai tea     Spicy Eye Opener Chai Lg            1   \n",
       "\n",
       "   hour_of_day  total_value  \n",
       "0            7          6.0  \n",
       "1            7          6.2  \n",
       "2            7          9.0  \n",
       "3            7          2.0  \n",
       "4            7          6.2  "
      ]
     },
     "execution_count": 10,
     "metadata": {},
     "output_type": "execute_result"
    }
   ],
   "source": [
    "spark_df.limit(5).toPandas()"
   ]
  },
  {
   "cell_type": "code",
   "execution_count": 11,
   "id": "e8ee9657-5a82-4f16-aec9-f21ee874c176",
   "metadata": {},
   "outputs": [
    {
     "name": "stderr",
     "output_type": "stream",
     "text": [
      "                                                                                \r"
     ]
    }
   ],
   "source": [
    "# Codificação das variáveis categóricas\n",
    "indexers = [StringIndexer(inputCol=column, outputCol=column+\"_index\") \n",
    "            for column in ['product_id', 'store_id', 'day_of_week', 'product_category', 'product_type']]\n",
    "\n",
    "for indexer in indexers:\n",
    "    spark_df = indexer.fit(spark_df).transform(spark_df)"
   ]
  },
  {
   "cell_type": "code",
   "execution_count": 12,
   "id": "dc6775bd-c017-46b2-a0da-53ef290b66af",
   "metadata": {},
   "outputs": [],
   "source": [
    "encoder = OneHotEncoder(\n",
    "    inputCols=['product_id_index', 'store_id_index', 'day_of_week_index', 'product_category_index', 'product_type_index'], \n",
    "    outputCols=['product_id_vec', 'store_id_vec', 'day_of_week_vec', 'product_category_vec', 'product_type_vec'])\n",
    "spark_df = encoder.fit(spark_df).transform(spark_df)"
   ]
  },
  {
   "cell_type": "code",
   "execution_count": 13,
   "id": "d4b918e3-8f72-4e02-8f68-f28fc4ac8b87",
   "metadata": {},
   "outputs": [],
   "source": [
    "# Monta o vetor de features\n",
    "assembler = VectorAssembler(inputCols=[\n",
    "    'product_id_vec', \n",
    "    'store_id_vec', \n",
    "    'day_of_week_vec', \n",
    "    'product_category_vec', \n",
    "    'product_type_vec',\n",
    "    'hour_of_day', \n",
    "    'transaction_qty', \n",
    "    'unit_price',\n",
    "    'total_value'], outputCol='features')\n",
    "spark_df = assembler.transform(spark_df)"
   ]
  },
  {
   "cell_type": "code",
   "execution_count": 14,
   "id": "a90cc1d6-12ca-47ab-945c-d17fa45c6fe7",
   "metadata": {},
   "outputs": [
    {
     "name": "stderr",
     "output_type": "stream",
     "text": [
      "24/07/30 07:04:26 WARN TaskSetManager: Stage 19 contains a task of very large size (2268 KiB). The maximum recommended task size is 1000 KiB.\n",
      "                                                                                \r"
     ]
    }
   ],
   "source": [
    "# Normalização\n",
    "scaler = StandardScaler(inputCol=\"features\", outputCol=\"scaled_features\")\n",
    "features_df = scaler.fit(spark_df).transform(spark_df)"
   ]
  },
  {
   "cell_type": "code",
   "execution_count": 15,
   "id": "b32d2b53-50f7-4670-9c49-c5a105c93c13",
   "metadata": {},
   "outputs": [],
   "source": [
    "# Função para treinar KMeans e visualizar clusters\n",
    "def train_and_evaluate_kmeans(k, features_col, data):\n",
    "    kmeans = KMeans(k=k, seed=1, featuresCol=features_col, predictionCol='cluster')\n",
    "    model = kmeans.fit(data)\n",
    "    predictions = model.transform(data)\n",
    "    \n",
    "    # Avaliador de clusters\n",
    "    evaluator = ClusteringEvaluator(featuresCol=features_col, predictionCol='cluster')\n",
    "    silhouette = evaluator.evaluate(predictions)\n",
    "    print(f\"Silhouette Score for k={k}: {silhouette}\")\n",
    "\n",
    "    return predictions, silhouette"
   ]
  },
  {
   "cell_type": "code",
   "execution_count": 16,
   "id": "50666c52-484c-4949-8a4a-4c2e3bf47042",
   "metadata": {},
   "outputs": [],
   "source": [
    "# Reparticiona o DataFrame para reduzir o tamanho das tasks\n",
    "#features_df = features_df.repartition(200)"
   ]
  },
  {
   "cell_type": "code",
   "execution_count": 16,
   "id": "09d689ba-f54e-415f-bb36-7f0ee20466f0",
   "metadata": {},
   "outputs": [
    {
     "name": "stderr",
     "output_type": "stream",
     "text": [
      "24/07/30 07:04:44 WARN TaskSetManager: Stage 22 contains a task of very large size (2268 KiB). The maximum recommended task size is 1000 KiB.\n",
      "24/07/30 07:04:52 WARN TaskSetManager: Stage 25 contains a task of very large size (2269 KiB). The maximum recommended task size is 1000 KiB.\n",
      "24/07/30 07:04:54 WARN TaskSetManager: Stage 26 contains a task of very large size (2269 KiB). The maximum recommended task size is 1000 KiB.\n",
      "24/07/30 07:04:54 WARN TaskSetManager: Stage 27 contains a task of very large size (2269 KiB). The maximum recommended task size is 1000 KiB.\n",
      "24/07/30 07:04:55 WARN TaskSetManager: Stage 28 contains a task of very large size (2269 KiB). The maximum recommended task size is 1000 KiB.\n",
      "24/07/30 07:04:57 WARN TaskSetManager: Stage 29 contains a task of very large size (2269 KiB). The maximum recommended task size is 1000 KiB.\n",
      "24/07/30 07:04:58 WARN TaskSetManager: Stage 30 contains a task of very large size (2269 KiB). The maximum recommended task size is 1000 KiB.\n",
      "24/07/30 07:04:59 WARN TaskSetManager: Stage 31 contains a task of very large size (2269 KiB). The maximum recommended task size is 1000 KiB.\n",
      "24/07/30 07:05:00 WARN InstanceBuilder: Failed to load implementation from:dev.ludovic.netlib.blas.JNIBLAS\n",
      "24/07/30 07:05:00 WARN InstanceBuilder: Failed to load implementation from:dev.ludovic.netlib.blas.VectorBLAS\n",
      "24/07/30 07:05:00 WARN TaskSetManager: Stage 33 contains a task of very large size (2269 KiB). The maximum recommended task size is 1000 KiB.\n",
      "24/07/30 07:05:01 WARN TaskSetManager: Stage 35 contains a task of very large size (2269 KiB). The maximum recommended task size is 1000 KiB.\n",
      "24/07/30 07:05:01 WARN TaskSetManager: Stage 37 contains a task of very large size (2269 KiB). The maximum recommended task size is 1000 KiB.\n",
      "24/07/30 07:05:09 WARN TaskSetManager: Stage 39 contains a task of very large size (2268 KiB). The maximum recommended task size is 1000 KiB.\n",
      "24/07/30 07:05:18 WARN TaskSetManager: Stage 42 contains a task of very large size (2268 KiB). The maximum recommended task size is 1000 KiB.\n",
      "24/07/30 07:05:26 WARN TaskSetManager: Stage 44 contains a task of very large size (2268 KiB). The maximum recommended task size is 1000 KiB.\n",
      "                                                                                \r"
     ]
    },
    {
     "name": "stdout",
     "output_type": "stream",
     "text": [
      "Silhouette Score for k=3: -0.13405443933211486\n"
     ]
    },
    {
     "name": "stderr",
     "output_type": "stream",
     "text": [
      "24/07/30 07:05:34 WARN TaskSetManager: Stage 47 contains a task of very large size (2268 KiB). The maximum recommended task size is 1000 KiB.\n",
      "24/07/30 07:05:42 WARN TaskSetManager: Stage 50 contains a task of very large size (2269 KiB). The maximum recommended task size is 1000 KiB.\n",
      "24/07/30 07:05:44 WARN TaskSetManager: Stage 51 contains a task of very large size (2269 KiB). The maximum recommended task size is 1000 KiB.\n",
      "24/07/30 07:05:44 WARN TaskSetManager: Stage 52 contains a task of very large size (2269 KiB). The maximum recommended task size is 1000 KiB.\n",
      "24/07/30 07:05:45 WARN TaskSetManager: Stage 53 contains a task of very large size (2269 KiB). The maximum recommended task size is 1000 KiB.\n",
      "24/07/30 07:05:45 WARN TaskSetManager: Stage 54 contains a task of very large size (2269 KiB). The maximum recommended task size is 1000 KiB.\n",
      "24/07/30 07:05:45 WARN TaskSetManager: Stage 55 contains a task of very large size (2269 KiB). The maximum recommended task size is 1000 KiB.\n",
      "24/07/30 07:05:46 WARN TaskSetManager: Stage 56 contains a task of very large size (2269 KiB). The maximum recommended task size is 1000 KiB.\n",
      "24/07/30 07:05:46 WARN TaskSetManager: Stage 58 contains a task of very large size (2269 KiB). The maximum recommended task size is 1000 KiB.\n",
      "24/07/30 07:05:47 WARN TaskSetManager: Stage 60 contains a task of very large size (2269 KiB). The maximum recommended task size is 1000 KiB.\n",
      "24/07/30 07:05:47 WARN TaskSetManager: Stage 62 contains a task of very large size (2269 KiB). The maximum recommended task size is 1000 KiB.\n",
      "24/07/30 07:05:52 WARN TaskSetManager: Stage 64 contains a task of very large size (2268 KiB). The maximum recommended task size is 1000 KiB.\n",
      "24/07/30 07:06:04 WARN TaskSetManager: Stage 67 contains a task of very large size (2268 KiB). The maximum recommended task size is 1000 KiB.\n",
      "24/07/30 07:06:09 WARN TaskSetManager: Stage 69 contains a task of very large size (2268 KiB). The maximum recommended task size is 1000 KiB.\n",
      "                                                                                \r"
     ]
    },
    {
     "name": "stdout",
     "output_type": "stream",
     "text": [
      "Silhouette Score for k=4: -0.087720328838656\n"
     ]
    },
    {
     "name": "stderr",
     "output_type": "stream",
     "text": [
      "24/07/30 07:06:17 WARN TaskSetManager: Stage 72 contains a task of very large size (2268 KiB). The maximum recommended task size is 1000 KiB.\n",
      "24/07/30 07:06:25 WARN TaskSetManager: Stage 75 contains a task of very large size (2269 KiB). The maximum recommended task size is 1000 KiB.\n",
      "24/07/30 07:06:26 WARN TaskSetManager: Stage 76 contains a task of very large size (2269 KiB). The maximum recommended task size is 1000 KiB.\n",
      "24/07/30 07:06:26 WARN TaskSetManager: Stage 77 contains a task of very large size (2269 KiB). The maximum recommended task size is 1000 KiB.\n",
      "24/07/30 07:06:27 WARN TaskSetManager: Stage 78 contains a task of very large size (2269 KiB). The maximum recommended task size is 1000 KiB.\n",
      "24/07/30 07:06:27 WARN TaskSetManager: Stage 79 contains a task of very large size (2269 KiB). The maximum recommended task size is 1000 KiB.\n",
      "24/07/30 07:06:28 WARN TaskSetManager: Stage 80 contains a task of very large size (2269 KiB). The maximum recommended task size is 1000 KiB.\n",
      "24/07/30 07:06:28 WARN TaskSetManager: Stage 81 contains a task of very large size (2269 KiB). The maximum recommended task size is 1000 KiB.\n",
      "24/07/30 07:06:29 WARN TaskSetManager: Stage 83 contains a task of very large size (2269 KiB). The maximum recommended task size is 1000 KiB.\n",
      "24/07/30 07:06:29 WARN TaskSetManager: Stage 85 contains a task of very large size (2269 KiB). The maximum recommended task size is 1000 KiB.\n",
      "24/07/30 07:06:30 WARN TaskSetManager: Stage 87 contains a task of very large size (2269 KiB). The maximum recommended task size is 1000 KiB.\n",
      "24/07/30 07:06:30 WARN TaskSetManager: Stage 89 contains a task of very large size (2269 KiB). The maximum recommended task size is 1000 KiB.\n",
      "24/07/30 07:06:37 WARN TaskSetManager: Stage 91 contains a task of very large size (2268 KiB). The maximum recommended task size is 1000 KiB.\n",
      "24/07/30 07:06:43 WARN TaskSetManager: Stage 94 contains a task of very large size (2268 KiB). The maximum recommended task size is 1000 KiB.\n",
      "24/07/30 07:06:50 WARN TaskSetManager: Stage 96 contains a task of very large size (2268 KiB). The maximum recommended task size is 1000 KiB.\n",
      "                                                                                \r"
     ]
    },
    {
     "name": "stdout",
     "output_type": "stream",
     "text": [
      "Silhouette Score for k=5: -0.0712815650453358\n"
     ]
    },
    {
     "name": "stderr",
     "output_type": "stream",
     "text": [
      "24/07/30 07:06:59 WARN TaskSetManager: Stage 99 contains a task of very large size (2268 KiB). The maximum recommended task size is 1000 KiB.\n",
      "24/07/30 07:07:06 WARN TaskSetManager: Stage 102 contains a task of very large size (2269 KiB). The maximum recommended task size is 1000 KiB.\n",
      "24/07/30 07:07:07 WARN TaskSetManager: Stage 103 contains a task of very large size (2269 KiB). The maximum recommended task size is 1000 KiB.\n",
      "24/07/30 07:07:07 WARN TaskSetManager: Stage 104 contains a task of very large size (2269 KiB). The maximum recommended task size is 1000 KiB.\n",
      "24/07/30 07:07:08 WARN TaskSetManager: Stage 105 contains a task of very large size (2269 KiB). The maximum recommended task size is 1000 KiB.\n",
      "24/07/30 07:07:08 WARN TaskSetManager: Stage 106 contains a task of very large size (2269 KiB). The maximum recommended task size is 1000 KiB.\n",
      "24/07/30 07:07:09 WARN TaskSetManager: Stage 107 contains a task of very large size (2269 KiB). The maximum recommended task size is 1000 KiB.\n",
      "24/07/30 07:07:09 WARN TaskSetManager: Stage 108 contains a task of very large size (2269 KiB). The maximum recommended task size is 1000 KiB.\n",
      "24/07/30 07:07:09 WARN TaskSetManager: Stage 110 contains a task of very large size (2269 KiB). The maximum recommended task size is 1000 KiB.\n",
      "24/07/30 07:07:10 WARN TaskSetManager: Stage 112 contains a task of very large size (2269 KiB). The maximum recommended task size is 1000 KiB.\n",
      "24/07/30 07:07:10 WARN TaskSetManager: Stage 114 contains a task of very large size (2269 KiB). The maximum recommended task size is 1000 KiB.\n",
      "24/07/30 07:07:10 WARN TaskSetManager: Stage 116 contains a task of very large size (2269 KiB). The maximum recommended task size is 1000 KiB.\n",
      "24/07/30 07:07:10 WARN TaskSetManager: Stage 118 contains a task of very large size (2269 KiB). The maximum recommended task size is 1000 KiB.\n",
      "24/07/30 07:07:18 WARN TaskSetManager: Stage 120 contains a task of very large size (2268 KiB). The maximum recommended task size is 1000 KiB.\n",
      "24/07/30 07:07:29 WARN TaskSetManager: Stage 123 contains a task of very large size (2268 KiB). The maximum recommended task size is 1000 KiB.\n",
      "24/07/30 07:07:39 WARN TaskSetManager: Stage 125 contains a task of very large size (2268 KiB). The maximum recommended task size is 1000 KiB.\n",
      "                                                                                \r"
     ]
    },
    {
     "name": "stdout",
     "output_type": "stream",
     "text": [
      "Silhouette Score for k=6: -0.018228104311178585\n"
     ]
    },
    {
     "name": "stderr",
     "output_type": "stream",
     "text": [
      "24/07/30 07:07:45 WARN TaskSetManager: Stage 128 contains a task of very large size (2268 KiB). The maximum recommended task size is 1000 KiB.\n",
      "24/07/30 07:07:50 WARN TaskSetManager: Stage 131 contains a task of very large size (2269 KiB). The maximum recommended task size is 1000 KiB.\n",
      "24/07/30 07:07:51 WARN TaskSetManager: Stage 132 contains a task of very large size (2269 KiB). The maximum recommended task size is 1000 KiB.\n",
      "24/07/30 07:07:51 WARN TaskSetManager: Stage 133 contains a task of very large size (2269 KiB). The maximum recommended task size is 1000 KiB.\n",
      "24/07/30 07:07:52 WARN TaskSetManager: Stage 134 contains a task of very large size (2269 KiB). The maximum recommended task size is 1000 KiB.\n",
      "24/07/30 07:07:52 WARN TaskSetManager: Stage 135 contains a task of very large size (2269 KiB). The maximum recommended task size is 1000 KiB.\n",
      "24/07/30 07:07:53 WARN TaskSetManager: Stage 136 contains a task of very large size (2269 KiB). The maximum recommended task size is 1000 KiB.\n",
      "24/07/30 07:07:53 WARN TaskSetManager: Stage 137 contains a task of very large size (2269 KiB). The maximum recommended task size is 1000 KiB.\n",
      "24/07/30 07:07:54 WARN TaskSetManager: Stage 139 contains a task of very large size (2269 KiB). The maximum recommended task size is 1000 KiB.\n",
      "24/07/30 07:07:54 WARN TaskSetManager: Stage 141 contains a task of very large size (2269 KiB). The maximum recommended task size is 1000 KiB.\n",
      "24/07/30 07:07:54 WARN TaskSetManager: Stage 143 contains a task of very large size (2269 KiB). The maximum recommended task size is 1000 KiB.\n",
      "24/07/30 07:07:55 WARN TaskSetManager: Stage 145 contains a task of very large size (2269 KiB). The maximum recommended task size is 1000 KiB.\n",
      "24/07/30 07:07:56 WARN TaskSetManager: Stage 147 contains a task of very large size (2269 KiB). The maximum recommended task size is 1000 KiB.\n",
      "24/07/30 07:08:15 WARN TaskSetManager: Stage 149 contains a task of very large size (2268 KiB). The maximum recommended task size is 1000 KiB.\n",
      "24/07/30 07:08:22 WARN TaskSetManager: Stage 152 contains a task of very large size (2268 KiB). The maximum recommended task size is 1000 KiB.\n",
      "24/07/30 07:08:31 WARN TaskSetManager: Stage 154 contains a task of very large size (2268 KiB). The maximum recommended task size is 1000 KiB.\n",
      "                                                                                \r"
     ]
    },
    {
     "name": "stdout",
     "output_type": "stream",
     "text": [
      "Silhouette Score for k=7: -0.04173879360112731\n"
     ]
    },
    {
     "name": "stderr",
     "output_type": "stream",
     "text": [
      "24/07/30 07:08:39 WARN TaskSetManager: Stage 157 contains a task of very large size (2268 KiB). The maximum recommended task size is 1000 KiB.\n",
      "24/07/30 07:08:46 WARN TaskSetManager: Stage 160 contains a task of very large size (2269 KiB). The maximum recommended task size is 1000 KiB.\n",
      "24/07/30 07:08:48 WARN TaskSetManager: Stage 161 contains a task of very large size (2269 KiB). The maximum recommended task size is 1000 KiB.\n",
      "24/07/30 07:08:48 WARN TaskSetManager: Stage 162 contains a task of very large size (2269 KiB). The maximum recommended task size is 1000 KiB.\n",
      "24/07/30 07:08:49 WARN TaskSetManager: Stage 163 contains a task of very large size (2269 KiB). The maximum recommended task size is 1000 KiB.\n",
      "24/07/30 07:08:49 WARN TaskSetManager: Stage 164 contains a task of very large size (2269 KiB). The maximum recommended task size is 1000 KiB.\n",
      "24/07/30 07:08:49 WARN TaskSetManager: Stage 165 contains a task of very large size (2269 KiB). The maximum recommended task size is 1000 KiB.\n",
      "24/07/30 07:08:49 WARN TaskSetManager: Stage 166 contains a task of very large size (2269 KiB). The maximum recommended task size is 1000 KiB.\n",
      "24/07/30 07:08:50 WARN TaskSetManager: Stage 168 contains a task of very large size (2269 KiB). The maximum recommended task size is 1000 KiB.\n",
      "24/07/30 07:08:50 WARN TaskSetManager: Stage 170 contains a task of very large size (2269 KiB). The maximum recommended task size is 1000 KiB.\n",
      "24/07/30 07:08:51 WARN TaskSetManager: Stage 172 contains a task of very large size (2269 KiB). The maximum recommended task size is 1000 KiB.\n",
      "24/07/30 07:08:51 WARN TaskSetManager: Stage 174 contains a task of very large size (2269 KiB). The maximum recommended task size is 1000 KiB.\n",
      "24/07/30 07:08:52 WARN TaskSetManager: Stage 176 contains a task of very large size (2269 KiB). The maximum recommended task size is 1000 KiB.\n",
      "24/07/30 07:09:06 WARN TaskSetManager: Stage 178 contains a task of very large size (2268 KiB). The maximum recommended task size is 1000 KiB.\n",
      "24/07/30 07:09:13 WARN TaskSetManager: Stage 181 contains a task of very large size (2268 KiB). The maximum recommended task size is 1000 KiB.\n",
      "24/07/30 07:09:20 WARN TaskSetManager: Stage 183 contains a task of very large size (2268 KiB). The maximum recommended task size is 1000 KiB.\n"
     ]
    },
    {
     "name": "stdout",
     "output_type": "stream",
     "text": [
      "Silhouette Score for k=8: 0.00020860592889933267\n"
     ]
    },
    {
     "name": "stderr",
     "output_type": "stream",
     "text": [
      "                                                                                \r"
     ]
    }
   ],
   "source": [
    "silhouette_scores = []\n",
    "n_clusters = list(range(3,9))\n",
    "for k in n_clusters:\n",
    "    _, silhouette = train_and_evaluate_kmeans(k, 'scaled_features', features_df)\n",
    "    silhouette_scores.append(silhouette)"
   ]
  },
  {
   "cell_type": "code",
   "execution_count": 17,
   "id": "b03cbfde-8d84-4516-9dcb-7823d6c7f011",
   "metadata": {},
   "outputs": [
    {
     "data": {
      "text/plain": [
       "[-0.13405443933211486,\n",
       " -0.087720328838656,\n",
       " -0.0712815650453358,\n",
       " -0.018228104311178585,\n",
       " -0.04173879360112731,\n",
       " 0.00020860592889933267]"
      ]
     },
     "execution_count": 17,
     "metadata": {},
     "output_type": "execute_result"
    }
   ],
   "source": [
    "silhouette_scores"
   ]
  },
  {
   "cell_type": "markdown",
   "id": "b26372a0-618e-434d-9aca-084baff5c4ad",
   "metadata": {},
   "source": [
    "### Observação\n",
    "- ClusteringEvaluator computa a métrica Silhouette, que mede a distancia euclidiana quadrada;\n",
    "- varia de -1 a 1;\n",
    "- onde um valor próximo de 1 significa que os pontos de um cluster estão próximos dos demais pontos do mesmo cluster e distantes dos pontos dos demais clusters;\n",
    "- Como mesmo variando o número de clusters, os valores de Silhouette estão muito baixos, tentarei utilizar o PCA para reduzir o número de features e remover a correlação entre elas"
   ]
  },
  {
   "cell_type": "code",
   "execution_count": 18,
   "id": "57c27e31-4d55-4e1d-b4b7-6b5d42198882",
   "metadata": {},
   "outputs": [
    {
     "name": "stderr",
     "output_type": "stream",
     "text": [
      "24/07/30 07:10:27 WARN TaskSetManager: Stage 186 contains a task of very large size (2268 KiB). The maximum recommended task size is 1000 KiB.\n",
      "24/07/30 07:10:27 WARN TaskSetManager: Stage 187 contains a task of very large size (2268 KiB). The maximum recommended task size is 1000 KiB.\n",
      "24/07/30 07:10:27 WARN TaskSetManager: Stage 188 contains a task of very large size (2268 KiB). The maximum recommended task size is 1000 KiB.\n",
      "24/07/30 07:10:28 WARN TaskSetManager: Stage 190 contains a task of very large size (2268 KiB). The maximum recommended task size is 1000 KiB.\n",
      "24/07/30 07:10:28 WARN TaskSetManager: Stage 191 contains a task of very large size (2268 KiB). The maximum recommended task size is 1000 KiB.\n",
      "24/07/30 07:10:29 WARN TaskSetManager: Stage 192 contains a task of very large size (2268 KiB). The maximum recommended task size is 1000 KiB.\n",
      "24/07/30 07:10:29 WARN TaskSetManager: Stage 193 contains a task of very large size (2268 KiB). The maximum recommended task size is 1000 KiB.\n",
      "24/07/30 07:10:31 WARN InstanceBuilder: Failed to load implementation from:dev.ludovic.netlib.lapack.JNILAPACK\n"
     ]
    }
   ],
   "source": [
    "# Redução de dimensionalidade com PCA\n",
    "pca = PCA(k=5, inputCol=\"scaled_features\", outputCol=\"pca_features\")\n",
    "pca_features_df = pca.fit(features_df).transform(features_df)"
   ]
  },
  {
   "cell_type": "code",
   "execution_count": 38,
   "id": "83c087e4-feda-4098-86c2-ff2c4e1a9f26",
   "metadata": {},
   "outputs": [
    {
     "name": "stderr",
     "output_type": "stream",
     "text": [
      "24/07/28 18:26:33 WARN TaskSetManager: Stage 1304 contains a task of very large size (2706 KiB). The maximum recommended task size is 1000 KiB.\n",
      "24/07/28 18:26:41 WARN TaskSetManager: Stage 1305 contains a task of very large size (2268 KiB). The maximum recommended task size is 1000 KiB.\n",
      "24/07/28 18:26:51 WARN TaskSetManager: Stage 1311 contains a task of very large size (2268 KiB). The maximum recommended task size is 1000 KiB.\n",
      "24/07/28 18:27:05 WARN TaskSetManager: Stage 1339 contains a task of very large size (2268 KiB). The maximum recommended task size is 1000 KiB.\n",
      "24/07/28 18:27:19 WARN TaskSetManager: Stage 1345 contains a task of very large size (2268 KiB). The maximum recommended task size is 1000 KiB.\n",
      "24/07/28 18:27:27 WARN TaskSetManager: Stage 1349 contains a task of very large size (2268 KiB). The maximum recommended task size is 1000 KiB.\n",
      "                                                                                \r"
     ]
    },
    {
     "name": "stdout",
     "output_type": "stream",
     "text": [
      "Silhouette Score for k=3: 0.47724436008147064\n"
     ]
    },
    {
     "name": "stderr",
     "output_type": "stream",
     "text": [
      "24/07/28 18:27:35 WARN TaskSetManager: Stage 1355 contains a task of very large size (2268 KiB). The maximum recommended task size is 1000 KiB.\n",
      "24/07/28 18:27:43 WARN TaskSetManager: Stage 1361 contains a task of very large size (2268 KiB). The maximum recommended task size is 1000 KiB.\n",
      "24/07/28 18:27:56 WARN TaskSetManager: Stage 1389 contains a task of very large size (2268 KiB). The maximum recommended task size is 1000 KiB.\n",
      "24/07/28 18:28:07 WARN TaskSetManager: Stage 1395 contains a task of very large size (2268 KiB). The maximum recommended task size is 1000 KiB.\n",
      "24/07/28 18:28:19 WARN TaskSetManager: Stage 1399 contains a task of very large size (2268 KiB). The maximum recommended task size is 1000 KiB.\n",
      "                                                                                \r"
     ]
    },
    {
     "name": "stdout",
     "output_type": "stream",
     "text": [
      "Silhouette Score for k=4: 0.5963053917218936\n"
     ]
    },
    {
     "name": "stderr",
     "output_type": "stream",
     "text": [
      "24/07/28 18:28:28 WARN TaskSetManager: Stage 1405 contains a task of very large size (2268 KiB). The maximum recommended task size is 1000 KiB.\n",
      "24/07/28 18:28:36 WARN TaskSetManager: Stage 1411 contains a task of very large size (2268 KiB). The maximum recommended task size is 1000 KiB.\n",
      "24/07/28 18:28:51 WARN TaskSetManager: Stage 1439 contains a task of very large size (2268 KiB). The maximum recommended task size is 1000 KiB.\n",
      "24/07/28 18:29:02 WARN TaskSetManager: Stage 1445 contains a task of very large size (2268 KiB). The maximum recommended task size is 1000 KiB.\n",
      "24/07/28 18:29:11 WARN TaskSetManager: Stage 1449 contains a task of very large size (2268 KiB). The maximum recommended task size is 1000 KiB.\n",
      "                                                                                \r"
     ]
    },
    {
     "name": "stdout",
     "output_type": "stream",
     "text": [
      "Silhouette Score for k=5: 0.747918735035372\n"
     ]
    },
    {
     "name": "stderr",
     "output_type": "stream",
     "text": [
      "24/07/28 18:29:23 WARN TaskSetManager: Stage 1455 contains a task of very large size (2268 KiB). The maximum recommended task size is 1000 KiB.\n",
      "24/07/28 18:29:29 WARN TaskSetManager: Stage 1461 contains a task of very large size (2268 KiB). The maximum recommended task size is 1000 KiB.\n",
      "24/07/28 18:29:43 WARN TaskSetManager: Stage 1492 contains a task of very large size (2268 KiB). The maximum recommended task size is 1000 KiB.\n",
      "24/07/28 18:29:55 WARN TaskSetManager: Stage 1498 contains a task of very large size (2268 KiB). The maximum recommended task size is 1000 KiB.\n",
      "24/07/28 18:30:03 WARN TaskSetManager: Stage 1502 contains a task of very large size (2268 KiB). The maximum recommended task size is 1000 KiB.\n",
      "                                                                                \r"
     ]
    },
    {
     "name": "stdout",
     "output_type": "stream",
     "text": [
      "Silhouette Score for k=6: 0.9588948878689421\n"
     ]
    },
    {
     "name": "stderr",
     "output_type": "stream",
     "text": [
      "24/07/28 18:30:10 WARN TaskSetManager: Stage 1508 contains a task of very large size (2268 KiB). The maximum recommended task size is 1000 KiB.\n",
      "24/07/28 18:30:22 WARN TaskSetManager: Stage 1514 contains a task of very large size (2268 KiB). The maximum recommended task size is 1000 KiB.\n",
      "24/07/28 18:30:34 WARN TaskSetManager: Stage 1536 contains a task of very large size (2268 KiB). The maximum recommended task size is 1000 KiB.\n",
      "24/07/28 18:30:44 WARN TaskSetManager: Stage 1542 contains a task of very large size (2268 KiB). The maximum recommended task size is 1000 KiB.\n",
      "24/07/28 18:30:52 WARN TaskSetManager: Stage 1546 contains a task of very large size (2268 KiB). The maximum recommended task size is 1000 KiB.\n",
      "                                                                                \r"
     ]
    },
    {
     "name": "stdout",
     "output_type": "stream",
     "text": [
      "Silhouette Score for k=7: 0.9614907409498523\n"
     ]
    },
    {
     "name": "stderr",
     "output_type": "stream",
     "text": [
      "24/07/28 18:30:59 WARN TaskSetManager: Stage 1552 contains a task of very large size (2268 KiB). The maximum recommended task size is 1000 KiB.\n",
      "24/07/28 18:31:05 WARN TaskSetManager: Stage 1558 contains a task of very large size (2268 KiB). The maximum recommended task size is 1000 KiB.\n",
      "24/07/28 18:31:18 WARN TaskSetManager: Stage 1589 contains a task of very large size (2268 KiB). The maximum recommended task size is 1000 KiB.\n",
      "24/07/28 18:31:30 WARN TaskSetManager: Stage 1595 contains a task of very large size (2268 KiB). The maximum recommended task size is 1000 KiB.\n",
      "24/07/28 18:31:37 WARN TaskSetManager: Stage 1599 contains a task of very large size (2268 KiB). The maximum recommended task size is 1000 KiB.\n",
      "[Stage 1599:=======>                                                (1 + 7) / 8]\r"
     ]
    },
    {
     "name": "stdout",
     "output_type": "stream",
     "text": [
      "Silhouette Score for k=8: 0.9772994742623217\n"
     ]
    },
    {
     "name": "stderr",
     "output_type": "stream",
     "text": [
      "                                                                                \r"
     ]
    }
   ],
   "source": [
    "silhouette_scores = []\n",
    "n_clusters = list(range(3,9))\n",
    "for k in n_clusters:\n",
    "    _, silhouette = train_and_evaluate_kmeans(k, 'pca_features', pca_features_df)\n",
    "    silhouette_scores.append(silhouette)"
   ]
  },
  {
   "cell_type": "code",
   "execution_count": 39,
   "id": "02e14378-73d3-49e3-8ee1-31eda9c78453",
   "metadata": {},
   "outputs": [
    {
     "data": {
      "text/plain": [
       "[0.47724436008147064,\n",
       " 0.5963053917218936,\n",
       " 0.747918735035372,\n",
       " 0.9588948878689421,\n",
       " 0.9614907409498523,\n",
       " 0.9772994742623217]"
      ]
     },
     "execution_count": 39,
     "metadata": {},
     "output_type": "execute_result"
    }
   ],
   "source": [
    "silhouette_scores"
   ]
  },
  {
   "cell_type": "markdown",
   "id": "041d5638-0737-4726-819c-d0898aaa795b",
   "metadata": {},
   "source": [
    "### Observação\n",
    "- Agora vemos valores de Silhouette bem melhores (mais perto de 1);\n",
    "- Vou escolher o **k=6**, porque ele já tem um valor alto de Silhouette, e representa um modelo mais simples do que com 7 ou 8 cluster."
   ]
  },
  {
   "cell_type": "markdown",
   "id": "5386ec68-946c-4018-9680-2233806d1ec1",
   "metadata": {},
   "source": [
    "## Visualizando os clusters gerados"
   ]
  },
  {
   "cell_type": "code",
   "execution_count": 45,
   "id": "d80a471d-10cc-416d-92ef-e2e6a9b37ac8",
   "metadata": {},
   "outputs": [
    {
     "name": "stderr",
     "output_type": "stream",
     "text": [
      "24/07/28 18:53:12 WARN TaskSetManager: Stage 1714 contains a task of very large size (2268 KiB). The maximum recommended task size is 1000 KiB.\n",
      "24/07/28 18:53:22 WARN TaskSetManager: Stage 1720 contains a task of very large size (2268 KiB). The maximum recommended task size is 1000 KiB.\n",
      "24/07/28 18:53:38 WARN TaskSetManager: Stage 1751 contains a task of very large size (2268 KiB). The maximum recommended task size is 1000 KiB.\n",
      "24/07/28 18:53:46 WARN TaskSetManager: Stage 1757 contains a task of very large size (2268 KiB). The maximum recommended task size is 1000 KiB.\n",
      "24/07/28 18:53:54 WARN TaskSetManager: Stage 1761 contains a task of very large size (2268 KiB). The maximum recommended task size is 1000 KiB.\n",
      "[Stage 1761:>                                                       (0 + 8) / 8]\r"
     ]
    },
    {
     "name": "stdout",
     "output_type": "stream",
     "text": [
      "Silhouette Score for k=6: 0.9588948878689421\n"
     ]
    },
    {
     "name": "stderr",
     "output_type": "stream",
     "text": [
      "                                                                                \r"
     ]
    }
   ],
   "source": [
    "k = 6\n",
    "features_col = 'pca_features'\n",
    "data = pca_features_df\n",
    "predictions, _ = train_and_evaluate_kmeans(k, features_col, data)"
   ]
  },
  {
   "cell_type": "code",
   "execution_count": 46,
   "id": "363513fe-6972-48bf-84cf-533b2793c30a",
   "metadata": {},
   "outputs": [
    {
     "name": "stderr",
     "output_type": "stream",
     "text": [
      "24/07/28 18:54:05 WARN TaskSetManager: Stage 1767 contains a task of very large size (2268 KiB). The maximum recommended task size is 1000 KiB.\n",
      "                                                                                \r"
     ]
    }
   ],
   "source": [
    "# Converte DataFrame Spark para Pandas para visualização\n",
    "result_df = predictions.select(features_col, 'cluster').toPandas()"
   ]
  },
  {
   "cell_type": "code",
   "execution_count": 79,
   "id": "a146e946-3022-4523-b468-0b809e5d3c08",
   "metadata": {},
   "outputs": [
    {
     "data": {
      "image/png": "[encoded data removed]",
      "text/plain": [
       "<Figure size 1000x600 with 1 Axes>"
      ]
     },
     "metadata": {},
     "output_type": "display_data"
    }
   ],
   "source": [
    "# Usa PCA para reduzir a dimensionalidade para visualização\n",
    "pca = sk_PCA(n_components=2)\n",
    "pca_features = [list(row) for row in result_df['pca_features']]\n",
    "principal_components = pca.fit_transform(pca_features)\n",
    "df_pca = pd.DataFrame(data=principal_components, columns=['PC1', 'PC2'])\n",
    "df_pca['cluster'] = result_df['cluster']\n",
    "\n",
    "# Visualização\n",
    "plt.figure(figsize=(10, 6))\n",
    "sns.scatterplot(x='PC1', y='PC2', hue='cluster', palette='viridis', data=df_pca)\n",
    "plt.title(f'Clusters de Transações de Vendas (k={k})')\n",
    "plt.xlabel('Componente Principal 1')\n",
    "plt.ylabel('Componente Principal 2')\n",
    "plt.show()"
   ]
  },
  {
   "cell_type": "markdown",
   "id": "99722251-b160-4060-ab8b-1674ca1305e1",
   "metadata": {},
   "source": [
    "## Interpretação dos Clusters baseada na Distribuição das Features"
   ]
  },
  {
   "cell_type": "code",
   "execution_count": 52,
   "id": "7e8c3b56-ba65-4d3d-a9c9-e841c969c2b1",
   "metadata": {},
   "outputs": [
    {
     "name": "stderr",
     "output_type": "stream",
     "text": [
      "24/07/28 19:28:15 WARN TaskSetManager: Stage 1776 contains a task of very large size (2268 KiB). The maximum recommended task size is 1000 KiB.\n",
      "                                                                                \r"
     ]
    }
   ],
   "source": [
    "predictions_df = predictions.select(\n",
    "    'cluster', \n",
    "    'hour_of_day', \n",
    "    'day_of_week', \n",
    "    'product_category', \n",
    "    'transaction_qty', \n",
    "    'unit_price', \n",
    "    'total_value').toPandas()\n"
   ]
  },
  {
   "cell_type": "code",
   "execution_count": 53,
   "id": "ed1ba76f-375a-421a-93f3-6e7e27daaeff",
   "metadata": {},
   "outputs": [
    {
     "data": {
      "image/png": "[encoded data removed]",
      "text/plain": [
       "<Figure size 1000x600 with 1 Axes>"
      ]
     },
     "metadata": {},
     "output_type": "display_data"
    },
    {
     "data": {
      "image/png": "[encoded data removed]",
      "text/plain": [
       "<Figure size 1000x600 with 1 Axes>"
      ]
     },
     "metadata": {},
     "output_type": "display_data"
    },
    {
     "data": {
      "image/png": "[encoded data removed]",
      "text/plain": [
       "<Figure size 1000x600 with 1 Axes>"
      ]
     },
     "metadata": {},
     "output_type": "display_data"
    },
    {
     "data": {
      "image/png": "[encoded data removed]",
      "text/plain": [
       "<Figure size 1000x600 with 1 Axes>"
      ]
     },
     "metadata": {},
     "output_type": "display_data"
    },
    {
     "data": {
      "image/png": "[encoded data removed]",
      "text/plain": [
       "<Figure size 1000x600 with 1 Axes>"
      ]
     },
     "metadata": {},
     "output_type": "display_data"
    },
    {
     "data": {
      "image/png": "[encoded data removed]",
      "text/plain": [
       "<Figure size 1000x600 with 1 Axes>"
      ]
     },
     "metadata": {},
     "output_type": "display_data"
    }
   ],
   "source": [
    "# Plotar a distribuição das features por cluster\n",
    "for feature in ['hour_of_day', 'day_of_week', 'product_category', 'transaction_qty', 'unit_price', 'total_value']:\n",
    "    plt.figure(figsize=(10, 6))\n",
    "    sns.boxplot(x='cluster', y=feature, data=predictions_df)\n",
    "    plt.title(f'Distribution of {feature} by Cluster')\n",
    "    plt.show()"
   ]
  },
  {
   "cell_type": "code",
   "execution_count": 74,
   "id": "b34f8527-e05b-477b-9bf3-314d9e6f56c4",
   "metadata": {},
   "outputs": [
    {
     "name": "stdout",
     "output_type": "stream",
     "text": [
      "========================================\n",
      "Cluster= 0\n",
      "product_category  \n",
      "Coffee                98.948117\n",
      "Packaged Chocolate     0.824906\n",
      "Coffee beans           0.226976\n",
      "Name: count, dtype: float64\n",
      "========================================\n",
      "Cluster= 1\n",
      "product_category  \n",
      "Drinking Chocolate    100.0\n",
      "Name: count, dtype: float64\n",
      "========================================\n",
      "Cluster= 2\n",
      "product_category\n",
      "Coffee beans        68.427726\n",
      "Branded             31.572274\n",
      "Name: count, dtype: float64\n",
      "========================================\n",
      "Cluster= 3\n",
      "product_category\n",
      "Flavours            100.0\n",
      "Name: count, dtype: float64\n",
      "========================================\n",
      "Cluster= 4\n",
      "product_category\n",
      "Bakery              94.959593\n",
      "Loose Tea            5.040407\n",
      "Name: count, dtype: float64\n",
      "========================================\n",
      "Cluster= 5\n",
      "product_category\n",
      "Tea                 100.0\n",
      "Name: count, dtype: float64\n"
     ]
    }
   ],
   "source": [
    "for k in range(6):\n",
    "    print('=='*20)\n",
    "    print('Cluster=',k)\n",
    "    cluster_df = predictions_df[predictions_df['cluster']==k]\n",
    "    total_sales = len(cluster_df)\n",
    "    category_counts = cluster_df[['product_category']].value_counts()\n",
    "    category_percentage = (category_counts / total_sales) * 100\n",
    "    print(category_percentage)"
   ]
  },
  {
   "cell_type": "code",
   "execution_count": 60,
   "id": "798598fb-faed-4c6f-81d8-124dbf5bc0ab",
   "metadata": {},
   "outputs": [
    {
     "name": "stdout",
     "output_type": "stream",
     "text": [
      "Cluster= 0\n",
      "       cluster   hour_of_day   day_of_week  transaction_qty    unit_price  \\\n",
      "count  59037.0  59037.000000  59037.000000     59037.000000  59037.000000   \n",
      "mean       0.0     11.861290      3.993072         1.522283      3.089197   \n",
      "std        0.0      3.761333      1.990229         0.551008      0.967151   \n",
      "min        0.0      6.000000      1.000000         1.000000      2.000000   \n",
      "25%        0.0      9.000000      2.000000         1.000000      2.500000   \n",
      "50%        0.0     11.000000      4.000000         1.000000      3.000000   \n",
      "75%        0.0     15.000000      6.000000         2.000000      3.750000   \n",
      "max        0.0     20.000000      7.000000         4.000000     13.330000   \n",
      "\n",
      "        total_value  \n",
      "count  59037.000000  \n",
      "mean       4.669954  \n",
      "std        2.065368  \n",
      "min        2.000000  \n",
      "25%        3.000000  \n",
      "50%        4.250000  \n",
      "75%        6.000000  \n",
      "max       17.000000  \n",
      "Cluster= 1\n",
      "       cluster   hour_of_day   day_of_week  transaction_qty    unit_price  \\\n",
      "count  11468.0  11468.000000  11468.000000     11468.000000  11468.000000   \n",
      "mean       1.0     11.920213      3.983083         1.522236      4.148827   \n",
      "std        0.0      3.802185      1.990838         0.541415      0.511951   \n",
      "min        1.0      6.000000      1.000000         1.000000      3.500000   \n",
      "25%        1.0      9.000000      2.000000         1.000000      3.750000   \n",
      "50%        1.0     11.000000      4.000000         2.000000      4.500000   \n",
      "75%        1.0     15.000000      6.000000         2.000000      4.750000   \n",
      "max        1.0     20.000000      7.000000         3.000000      4.750000   \n",
      "\n",
      "        total_value  \n",
      "count  11468.000000  \n",
      "mean       6.314615  \n",
      "std        2.387229  \n",
      "min        3.500000  \n",
      "25%        4.500000  \n",
      "50%        7.000000  \n",
      "75%        9.000000  \n",
      "max       14.250000  \n",
      "Cluster= 2\n",
      "       cluster  hour_of_day  day_of_week  transaction_qty   unit_price  \\\n",
      "count   2366.0  2366.000000  2366.000000      2366.000000  2366.000000   \n",
      "mean       2.0    11.046915     3.979713         1.043956    20.601120   \n",
      "std        0.0     3.633285     2.001165         0.500076     8.458701   \n",
      "min        2.0     6.000000     1.000000         1.000000    12.000000   \n",
      "25%        2.0     8.000000     2.000000         1.000000    14.750000   \n",
      "50%        2.0    10.000000     4.000000         1.000000    18.000000   \n",
      "75%        2.0    14.000000     6.000000         1.000000    22.500000   \n",
      "max        2.0    20.000000     7.000000         8.000000    45.000000   \n",
      "\n",
      "       total_value  \n",
      "count  2366.000000  \n",
      "mean     22.126902  \n",
      "std      23.632249  \n",
      "min      12.000000  \n",
      "25%      14.750000  \n",
      "50%      18.000000  \n",
      "75%      22.500000  \n",
      "max     360.000000  \n",
      "Cluster= 3\n",
      "       cluster  hour_of_day  day_of_week  transaction_qty    unit_price  \\\n",
      "count   6790.0  6790.000000  6790.000000      6790.000000  6.790000e+03   \n",
      "mean       3.0    10.707364     4.023564         1.548012  8.000000e-01   \n",
      "std        0.0     3.532012     2.001039         0.543829  1.110305e-16   \n",
      "min        3.0     6.000000     1.000000         1.000000  8.000000e-01   \n",
      "25%        3.0     8.000000     2.000000         1.000000  8.000000e-01   \n",
      "50%        3.0    10.000000     4.000000         2.000000  8.000000e-01   \n",
      "75%        3.0    13.000000     6.000000         2.000000  8.000000e-01   \n",
      "max        3.0    20.000000     7.000000         4.000000  8.000000e-01   \n",
      "\n",
      "       total_value  \n",
      "count  6790.000000  \n",
      "mean      1.238409  \n",
      "std       0.435063  \n",
      "min       0.800000  \n",
      "25%       0.800000  \n",
      "50%       1.600000  \n",
      "75%       1.600000  \n",
      "max       3.200000  \n",
      "Cluster= 4\n",
      "       cluster   hour_of_day   day_of_week  transaction_qty    unit_price  \\\n",
      "count  24006.0  24006.000000  24006.000000     24006.000000  24006.000000   \n",
      "mean       4.0     11.454303      3.986420         1.017412      3.839779   \n",
      "std        0.0      3.715286      1.990496         0.138838      1.314955   \n",
      "min        4.0      6.000000      1.000000         1.000000      2.650000   \n",
      "25%        4.0      8.000000      2.000000         1.000000      3.250000   \n",
      "50%        4.0     10.000000      4.000000         1.000000      3.500000   \n",
      "75%        4.0     15.000000      6.000000         1.000000      3.750000   \n",
      "max        4.0     20.000000      7.000000         3.000000     10.950000   \n",
      "\n",
      "        total_value  \n",
      "count  24006.000000  \n",
      "mean       3.896078  \n",
      "std        1.367569  \n",
      "min        2.650000  \n",
      "25%        3.250000  \n",
      "50%        3.500000  \n",
      "75%        3.750000  \n",
      "max       10.950000  \n",
      "Cluster= 5\n",
      "       cluster   hour_of_day   day_of_week  transaction_qty    unit_price  \\\n",
      "count  45449.0  45449.000000  45449.000000     45449.000000  45449.000000   \n",
      "mean       5.0     11.864419      3.991793         1.534401      2.817121   \n",
      "std        0.0      3.790014      1.987972         0.553439      0.392372   \n",
      "min        5.0      6.000000      1.000000         1.000000      2.500000   \n",
      "25%        5.0      9.000000      2.000000         1.000000      2.500000   \n",
      "50%        5.0     11.000000      4.000000         2.000000      2.550000   \n",
      "75%        5.0     15.000000      6.000000         2.000000      3.000000   \n",
      "max        5.0     20.000000      7.000000         3.000000      4.000000   \n",
      "\n",
      "        total_value  \n",
      "count  45449.000000  \n",
      "mean       4.321458  \n",
      "std        1.680891  \n",
      "min        2.500000  \n",
      "25%        2.550000  \n",
      "50%        5.000000  \n",
      "75%        6.000000  \n",
      "max       12.000000  \n"
     ]
    }
   ],
   "source": [
    "for k in range(6):\n",
    "    print('Cluster=',k)\n",
    "    print(predictions_df[predictions_df['cluster']==k].describe())"
   ]
  },
  {
   "cell_type": "markdown",
   "id": "a974ef52-4d81-4b96-9f49-6bc3bcfa929b",
   "metadata": {},
   "source": [
    "### Análise dos Clusters:\n",
    "#### Cluster 0:\n",
    "- Quantidade de Transações: 59.037\n",
    "- Hora do Dia: Média de 11.86 (pico ao redor do meio-dia)\n",
    "- Dia da Semana: Distribuição uniforme\n",
    "- Quantidade de Transação: Média de 1.52 itens por transação\n",
    "- Preço Unitário: Média de 3.09\n",
    "- Valor Total: Média de 4.67\n",
    "- Categoria de Produto: Coffee (98,9%), Packaged Chocolate (0.8%), Coffee beans (0.2%)\n",
    "  \n",
    "#### Cluster 1\n",
    "- Quantidade de Transações: 11.468\n",
    "- Hora do Dia: Média de 11.92 (pico ao redor do meio-dia)\n",
    "- Dia da Semana: Distribuição uniforme\n",
    "- Quantidade de Transação: Média de 1.52 itens por transação\n",
    "- Preço Unitário: Média de 4.15\n",
    "- Valor Total: Média de 6.31\n",
    "- Categoria de Produto: Drinking Chocolate (100%)\n",
    "\n",
    "#### Cluster 2\n",
    "- Quantidade de Transações: 2.366\n",
    "- Hora do Dia: Média de 11.05\n",
    "- Dia da Semana: Distribuição uniforme\n",
    "- Quantidade de Transação: Média de 1.04 itens por transação\n",
    "- Preço Unitário: Média de 20.60\n",
    "- Valor Total: Média de 22.13\n",
    "- Categoria de Produto: Coffee beans (68.4%) e Branded (31.5%)\n",
    "\n",
    "#### Cluster 3\n",
    "- Quantidade de Transações: 6.790\n",
    "- Hora do Dia: Média de 10.71\n",
    "- Dia da Semana: Distribuição uniforme\n",
    "- Quantidade de Transação: Média de 1.55 itens por transação\n",
    "- Preço Unitário: Média de 0.80\n",
    "- Valor Total: Média de 1.24\n",
    "- Categoria de Produto: Flavours (100.0%)\n",
    "\n",
    "#### Cluster 4\n",
    "- Quantidade de Transações: 24.006\n",
    "- Hora do Dia: Média de 11.45\n",
    "- Dia da Semana: Distribuição uniforme\n",
    "- Quantidade de Transação: Média de 1.02 itens por transação\n",
    "- Preço Unitário: Média de 3.84\n",
    "- Valor Total: Média de 3.90\n",
    "- Categoria de Produto: Bakery (94.9%) e Loose Tea (5%)\n",
    "\n",
    "#### Cluster 5\n",
    "- Quantidade de Transações: 45.449\n",
    "- Hora do Dia: Média de 11.86\n",
    "- Dia da Semana: Distribuição uniforme\n",
    "- Quantidade de Transação: Média de 1.53 itens por transação\n",
    "- Preço Unitário: Média de 2.82\n",
    "- Valor Total: Média de 4.32\n",
    "- Categoria de Produto: Tea (100%)"
   ]
  },
  {
   "cell_type": "code",
   "execution_count": 82,
   "id": "e0de61e2-b8b3-4ad4-92e8-e481399093c6",
   "metadata": {},
   "outputs": [
    {
     "name": "stderr",
     "output_type": "stream",
     "text": [
      "24/07/29 21:42:13 WARN TaskSetManager: Stage 1785 contains a task of very large size (2523 KiB). The maximum recommended task size is 1000 KiB.\n",
      "                                                                                \r"
     ]
    }
   ],
   "source": [
    "# Salva o DataFrame Spark em um arquivo CSV\n",
    "predictions.select('transaction_id', 'cluster').coalesce(1).write.csv('../clusters_result', header=True)"
   ]
  },
  {
   "cell_type": "code",
   "execution_count": null,
   "id": "271c2d48-47f1-4058-86ed-efd615883cb8",
   "metadata": {},
   "outputs": [],
   "source": []
  }
 ],
 "metadata": {
  "kernelspec": {
   "display_name": "Python 3 (ipykernel)",
   "language": "python",
   "name": "python3"
  },
  "language_info": {
   "codemirror_mode": {
    "name": "ipython",
    "version": 3
   },
   "file_extension": ".py",
   "mimetype": "text/x-python",
   "name": "python",
   "nbconvert_exporter": "python",
   "pygments_lexer": "ipython3",
   "version": "3.11.6"
  }
 },
 "nbformat": 4,
 "nbformat_minor": 5
}
