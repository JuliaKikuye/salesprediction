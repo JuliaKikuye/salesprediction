{
 "cells": [
  {
   "cell_type": "code",
   "execution_count": 1,
   "id": "5fc5b053-429f-4b27-a5ab-5904da66e88e",
   "metadata": {},
   "outputs": [],
   "source": [
    "import findspark\n",
    "findspark.init()\n",
    "import pyspark"
   ]
  },
  {
   "cell_type": "code",
   "execution_count": 2,
   "id": "c2724beb-5002-46c4-8813-9b95ee74d71c",
   "metadata": {},
   "outputs": [],
   "source": [
    "from pyspark.sql import SparkSession\n",
    "from pyspark.sql.functions import dayofweek, hour, col, sum as spark_sum\n",
    "from pyspark.sql.window import Window\n",
    "from pyspark.sql.functions import percent_rank\n",
    "from pyspark.ml.feature import StringIndexer, VectorAssembler\n",
    "from pyspark.ml.regression import LinearRegression, DecisionTreeRegressor, GBTRegressor, RandomForestRegressor\n",
    "from pyspark.ml.evaluation import RegressionEvaluator\n",
    "from pyspark.ml.tuning import ParamGridBuilder, CrossValidator\n",
    "from pyspark import SparkContext\n",
    "from utils import preprocessing_data, create_features"
   ]
  },
  {
   "cell_type": "code",
   "execution_count": 3,
   "id": "4a6a1d03-6108-4052-abb5-41693a0559d9",
   "metadata": {},
   "outputs": [
    {
     "name": "stderr",
     "output_type": "stream",
     "text": [
      "24/07/29 21:15:53 WARN Utils: Your hostname, MacBook-Pro-de-Julia.local resolves to a loopback address: 127.0.0.1; using 192.168.1.8 instead (on interface en0)\n",
      "24/07/29 21:15:53 WARN Utils: Set SPARK_LOCAL_IP if you need to bind to another address\n",
      "Ivy Default Cache set to: /Users/kikuye/.ivy2/cache\n",
      "The jars for the packages stored in: /Users/kikuye/.ivy2/jars\n",
      "com.crealytics#spark-excel_2.12 added as a dependency\n",
      ":: resolving dependencies :: org.apache.spark#spark-submit-parent-10524317-c999-4e50-be1f-83ae55dc8734;1.0\n",
      "\tconfs: [default]\n"
     ]
    },
    {
     "name": "stdout",
     "output_type": "stream",
     "text": [
      ":: loading settings :: url = jar:file:/opt/spark-3.5.1/jars/ivy-2.5.1.jar!/org/apache/ivy/core/settings/ivysettings.xml\n"
     ]
    },
    {
     "name": "stderr",
     "output_type": "stream",
     "text": [
      "\tfound com.crealytics#spark-excel_2.12;0.13.5 in central\n",
      "\tfound org.apache.poi#poi;4.1.2 in central\n",
      "\tfound commons-codec#commons-codec;1.13 in central\n",
      "\tfound org.apache.commons#commons-collections4;4.4 in central\n",
      "\tfound org.apache.commons#commons-math3;3.6.1 in central\n",
      "\tfound com.zaxxer#SparseBitSet;1.2 in central\n",
      "\tfound org.apache.poi#poi-ooxml;4.1.2 in central\n",
      "\tfound org.apache.poi#poi-ooxml-schemas;4.1.2 in central\n",
      "\tfound org.apache.xmlbeans#xmlbeans;3.1.0 in central\n",
      "\tfound com.github.virtuald#curvesapi;1.06 in central\n",
      "\tfound com.norbitltd#spoiwo_2.12;1.7.0 in central\n",
      "\tfound org.scala-lang.modules#scala-xml_2.12;1.2.0 in central\n",
      "\tfound com.github.pjfanning#excel-streaming-reader;2.3.4 in central\n",
      "\tfound com.github.pjfanning#poi-shared-strings;1.0.4 in central\n",
      "\tfound com.h2database#h2;1.4.200 in central\n",
      "\tfound org.apache.commons#commons-text;1.8 in central\n",
      "\tfound org.apache.commons#commons-lang3;3.9 in central\n",
      "\tfound xml-apis#xml-apis;1.4.01 in central\n",
      "\tfound org.slf4j#slf4j-api;1.7.30 in central\n",
      "\tfound org.apache.commons#commons-compress;1.20 in central\n",
      "\tfound com.fasterxml.jackson.core#jackson-core;2.8.8 in central\n",
      ":: resolution report :: resolve 266ms :: artifacts dl 8ms\n",
      "\t:: modules in use:\n",
      "\tcom.crealytics#spark-excel_2.12;0.13.5 from central in [default]\n",
      "\tcom.fasterxml.jackson.core#jackson-core;2.8.8 from central in [default]\n",
      "\tcom.github.pjfanning#excel-streaming-reader;2.3.4 from central in [default]\n",
      "\tcom.github.pjfanning#poi-shared-strings;1.0.4 from central in [default]\n",
      "\tcom.github.virtuald#curvesapi;1.06 from central in [default]\n",
      "\tcom.h2database#h2;1.4.200 from central in [default]\n",
      "\tcom.norbitltd#spoiwo_2.12;1.7.0 from central in [default]\n",
      "\tcom.zaxxer#SparseBitSet;1.2 from central in [default]\n",
      "\tcommons-codec#commons-codec;1.13 from central in [default]\n",
      "\torg.apache.commons#commons-collections4;4.4 from central in [default]\n",
      "\torg.apache.commons#commons-compress;1.20 from central in [default]\n",
      "\torg.apache.commons#commons-lang3;3.9 from central in [default]\n",
      "\torg.apache.commons#commons-math3;3.6.1 from central in [default]\n",
      "\torg.apache.commons#commons-text;1.8 from central in [default]\n",
      "\torg.apache.poi#poi;4.1.2 from central in [default]\n",
      "\torg.apache.poi#poi-ooxml;4.1.2 from central in [default]\n",
      "\torg.apache.poi#poi-ooxml-schemas;4.1.2 from central in [default]\n",
      "\torg.apache.xmlbeans#xmlbeans;3.1.0 from central in [default]\n",
      "\torg.scala-lang.modules#scala-xml_2.12;1.2.0 from central in [default]\n",
      "\torg.slf4j#slf4j-api;1.7.30 from central in [default]\n",
      "\txml-apis#xml-apis;1.4.01 from central in [default]\n",
      "\t:: evicted modules:\n",
      "\torg.apache.commons#commons-compress;1.19 by [org.apache.commons#commons-compress;1.20] in [default]\n",
      "\t---------------------------------------------------------------------\n",
      "\t|                  |            modules            ||   artifacts   |\n",
      "\t|       conf       | number| search|dwnlded|evicted|| number|dwnlded|\n",
      "\t---------------------------------------------------------------------\n",
      "\t|      default     |   22  |   0   |   0   |   1   ||   21  |   0   |\n",
      "\t---------------------------------------------------------------------\n",
      ":: retrieving :: org.apache.spark#spark-submit-parent-10524317-c999-4e50-be1f-83ae55dc8734\n",
      "\tconfs: [default]\n",
      "\t0 artifacts copied, 21 already retrieved (0kB/5ms)\n",
      "24/07/29 21:15:54 WARN NativeCodeLoader: Unable to load native-hadoop library for your platform... using builtin-java classes where applicable\n",
      "Setting default log level to \"WARN\".\n",
      "To adjust logging level use sc.setLogLevel(newLevel). For SparkR, use setLogLevel(newLevel).\n",
      "24/07/29 21:15:55 WARN Utils: Service 'SparkUI' could not bind on port 4040. Attempting port 4041.\n"
     ]
    }
   ],
   "source": [
    "# Adiciona o pacote spark-excel ao iniciar a sessão Spark\n",
    "spark = SparkSession.builder \\\n",
    "    .appName(\"SalesPrediction\") \\\n",
    "    .config(\"spark.jars.packages\", \"com.crealytics:spark-excel_2.12:0.13.5\") \\\n",
    "    .config(\"spark.executor.memory\", \"4g\") \\\n",
    "    .config(\"spark.driver.memory\", \"4g\") \\\n",
    "    .config(\"spark.driver.maxResultSize\", \"2g\") \\\n",
    "    .getOrCreate()"
   ]
  },
  {
   "cell_type": "code",
   "execution_count": 4,
   "id": "6a4746cb-7add-42f6-8f59-3e30197654f3",
   "metadata": {},
   "outputs": [
    {
     "name": "stderr",
     "output_type": "stream",
     "text": [
      "                                                                                \r"
     ]
    }
   ],
   "source": [
    "# Carrega o arquivo Excel diretamente para um DataFrame do Spark\n",
    "file_path = '../data/Coffee Shop Sales.xlsx'\n",
    "spark_df = spark.read \\\n",
    "    .format(\"com.crealytics.spark.excel\") \\\n",
    "    .option(\"header\", \"true\") \\\n",
    "    .option(\"inferSchema\", \"true\") \\\n",
    "    .load(file_path)"
   ]
  },
  {
   "cell_type": "markdown",
   "id": "b50f64a4-de69-4c79-a3e6-1da502bed651",
   "metadata": {},
   "source": [
    "### Etapa 1: Preprocessamento dos Dados"
   ]
  },
  {
   "cell_type": "code",
   "execution_count": 5,
   "id": "1dc8f489-ded4-4bd5-ad6d-7b9ed5e6db47",
   "metadata": {},
   "outputs": [],
   "source": [
    "# Preprocessamento dos dados\n",
    "# correção de tipos e criação de novas colunas\n",
    "spark_df = preprocessing_data(spark_df)"
   ]
  },
  {
   "cell_type": "code",
   "execution_count": 6,
   "id": "10775c47-b238-4552-9302-9ce2e854e4ba",
   "metadata": {},
   "outputs": [
    {
     "name": "stderr",
     "output_type": "stream",
     "text": [
      "24/07/29 21:16:10 WARN GarbageCollectionMetrics: To enable non-built-in garbage collector(s) List(G1 Concurrent GC), users should configure it(them) to spark.eventLog.gcMetrics.youngGenerationGarbageCollectors or spark.eventLog.gcMetrics.oldGenerationGarbageCollectors\n",
      "24/07/29 21:16:15 WARN TaskSetManager: Stage 1 contains a task of very large size (2706 KiB). The maximum recommended task size is 1000 KiB.\n",
      "                                                                                \r"
     ]
    },
    {
     "data": {
      "text/html": [
       "<div>\n",
       "<style scoped>\n",
       "    .dataframe tbody tr th:only-of-type {\n",
       "        vertical-align: middle;\n",
       "    }\n",
       "\n",
       "    .dataframe tbody tr th {\n",
       "        vertical-align: top;\n",
       "    }\n",
       "\n",
       "    .dataframe thead th {\n",
       "        text-align: right;\n",
       "    }\n",
       "</style>\n",
       "<table border=\"1\" class=\"dataframe\">\n",
       "  <thead>\n",
       "    <tr style=\"text-align: right;\">\n",
       "      <th></th>\n",
       "      <th>transaction_id</th>\n",
       "      <th>transaction_date</th>\n",
       "      <th>transaction_time</th>\n",
       "      <th>transaction_qty</th>\n",
       "      <th>store_id</th>\n",
       "      <th>store_location</th>\n",
       "      <th>product_id</th>\n",
       "      <th>unit_price</th>\n",
       "      <th>product_category</th>\n",
       "      <th>product_type</th>\n",
       "      <th>product_detail</th>\n",
       "      <th>day_of_week</th>\n",
       "      <th>hour_of_day</th>\n",
       "      <th>hour_day_interaction</th>\n",
       "    </tr>\n",
       "  </thead>\n",
       "  <tbody>\n",
       "    <tr>\n",
       "      <th>0</th>\n",
       "      <td>1.0</td>\n",
       "      <td>2023-01-01</td>\n",
       "      <td>07:06:11</td>\n",
       "      <td>2.0</td>\n",
       "      <td>5.0</td>\n",
       "      <td>Lower Manhattan</td>\n",
       "      <td>32.0</td>\n",
       "      <td>3.0</td>\n",
       "      <td>Coffee</td>\n",
       "      <td>Gourmet brewed coffee</td>\n",
       "      <td>Ethiopia Rg</td>\n",
       "      <td>1</td>\n",
       "      <td>7</td>\n",
       "      <td>7</td>\n",
       "    </tr>\n",
       "    <tr>\n",
       "      <th>1</th>\n",
       "      <td>2.0</td>\n",
       "      <td>2023-01-01</td>\n",
       "      <td>07:08:56</td>\n",
       "      <td>2.0</td>\n",
       "      <td>5.0</td>\n",
       "      <td>Lower Manhattan</td>\n",
       "      <td>57.0</td>\n",
       "      <td>3.1</td>\n",
       "      <td>Tea</td>\n",
       "      <td>Brewed Chai tea</td>\n",
       "      <td>Spicy Eye Opener Chai Lg</td>\n",
       "      <td>1</td>\n",
       "      <td>7</td>\n",
       "      <td>7</td>\n",
       "    </tr>\n",
       "    <tr>\n",
       "      <th>2</th>\n",
       "      <td>3.0</td>\n",
       "      <td>2023-01-01</td>\n",
       "      <td>07:14:04</td>\n",
       "      <td>2.0</td>\n",
       "      <td>5.0</td>\n",
       "      <td>Lower Manhattan</td>\n",
       "      <td>59.0</td>\n",
       "      <td>4.5</td>\n",
       "      <td>Drinking Chocolate</td>\n",
       "      <td>Hot chocolate</td>\n",
       "      <td>Dark chocolate Lg</td>\n",
       "      <td>1</td>\n",
       "      <td>7</td>\n",
       "      <td>7</td>\n",
       "    </tr>\n",
       "    <tr>\n",
       "      <th>3</th>\n",
       "      <td>4.0</td>\n",
       "      <td>2023-01-01</td>\n",
       "      <td>07:20:24</td>\n",
       "      <td>1.0</td>\n",
       "      <td>5.0</td>\n",
       "      <td>Lower Manhattan</td>\n",
       "      <td>22.0</td>\n",
       "      <td>2.0</td>\n",
       "      <td>Coffee</td>\n",
       "      <td>Drip coffee</td>\n",
       "      <td>Our Old Time Diner Blend Sm</td>\n",
       "      <td>1</td>\n",
       "      <td>7</td>\n",
       "      <td>7</td>\n",
       "    </tr>\n",
       "    <tr>\n",
       "      <th>4</th>\n",
       "      <td>5.0</td>\n",
       "      <td>2023-01-01</td>\n",
       "      <td>07:22:41</td>\n",
       "      <td>2.0</td>\n",
       "      <td>5.0</td>\n",
       "      <td>Lower Manhattan</td>\n",
       "      <td>57.0</td>\n",
       "      <td>3.1</td>\n",
       "      <td>Tea</td>\n",
       "      <td>Brewed Chai tea</td>\n",
       "      <td>Spicy Eye Opener Chai Lg</td>\n",
       "      <td>1</td>\n",
       "      <td>7</td>\n",
       "      <td>7</td>\n",
       "    </tr>\n",
       "  </tbody>\n",
       "</table>\n",
       "</div>"
      ],
      "text/plain": [
       "   transaction_id transaction_date transaction_time  transaction_qty  \\\n",
       "0             1.0       2023-01-01         07:06:11              2.0   \n",
       "1             2.0       2023-01-01         07:08:56              2.0   \n",
       "2             3.0       2023-01-01         07:14:04              2.0   \n",
       "3             4.0       2023-01-01         07:20:24              1.0   \n",
       "4             5.0       2023-01-01         07:22:41              2.0   \n",
       "\n",
       "   store_id   store_location  product_id  unit_price    product_category  \\\n",
       "0       5.0  Lower Manhattan        32.0         3.0              Coffee   \n",
       "1       5.0  Lower Manhattan        57.0         3.1                 Tea   \n",
       "2       5.0  Lower Manhattan        59.0         4.5  Drinking Chocolate   \n",
       "3       5.0  Lower Manhattan        22.0         2.0              Coffee   \n",
       "4       5.0  Lower Manhattan        57.0         3.1                 Tea   \n",
       "\n",
       "            product_type               product_detail  day_of_week  \\\n",
       "0  Gourmet brewed coffee                  Ethiopia Rg            1   \n",
       "1        Brewed Chai tea     Spicy Eye Opener Chai Lg            1   \n",
       "2          Hot chocolate            Dark chocolate Lg            1   \n",
       "3            Drip coffee  Our Old Time Diner Blend Sm            1   \n",
       "4        Brewed Chai tea     Spicy Eye Opener Chai Lg            1   \n",
       "\n",
       "   hour_of_day  hour_day_interaction  \n",
       "0            7                     7  \n",
       "1            7                     7  \n",
       "2            7                     7  \n",
       "3            7                     7  \n",
       "4            7                     7  "
      ]
     },
     "execution_count": 6,
     "metadata": {},
     "output_type": "execute_result"
    }
   ],
   "source": [
    "spark_df.limit(5).toPandas()"
   ]
  },
  {
   "cell_type": "code",
   "execution_count": 8,
   "id": "e146853d-80d6-44c2-8d4e-e7edeea39be5",
   "metadata": {},
   "outputs": [],
   "source": [
    "# Como se quer prever o volume de vendas para produtos individuais em diferentes lojas, deve-se agrupar os dados\n",
    "\n",
    "# Agrupa os dados por product_id, store_id, dia da semana, hora do dia, e outros, somando a quantidade de produtos\n",
    "grouped_df = spark_df.groupBy(\n",
    "    'day_of_week', \n",
    "    'hour_of_day', \n",
    "    'hour_day_interaction',\n",
    "    'store_id',\n",
    "    'product_id',\n",
    "    'product_category',\n",
    "    'product_type',\n",
    "    'product_detail',\n",
    "    ).agg(\n",
    "        spark_sum('transaction_qty').alias('total_qty')\n",
    "    )"
   ]
  },
  {
   "cell_type": "markdown",
   "id": "8edbdbfd-363f-410d-ac74-0305fbf2ae5f",
   "metadata": {},
   "source": [
    "### Etapa 2: Criação de Features"
   ]
  },
  {
   "cell_type": "code",
   "execution_count": 9,
   "id": "ffe97482-9183-4a5c-bd0d-0223ad4bb57d",
   "metadata": {},
   "outputs": [
    {
     "name": "stderr",
     "output_type": "stream",
     "text": [
      "24/07/29 21:16:31 WARN TaskSetManager: Stage 2 contains a task of very large size (1851 KiB). The maximum recommended task size is 1000 KiB.\n",
      "24/07/29 21:16:41 WARN TaskSetManager: Stage 8 contains a task of very large size (1851 KiB). The maximum recommended task size is 1000 KiB.\n",
      "24/07/29 21:16:56 WARN TaskSetManager: Stage 14 contains a task of very large size (1851 KiB). The maximum recommended task size is 1000 KiB.\n",
      "24/07/29 21:17:04 WARN TaskSetManager: Stage 20 contains a task of very large size (1851 KiB). The maximum recommended task size is 1000 KiB.\n",
      "24/07/29 21:17:10 WARN TaskSetManager: Stage 26 contains a task of very large size (1851 KiB). The maximum recommended task size is 1000 KiB.\n",
      "24/07/29 21:17:19 WARN TaskSetManager: Stage 32 contains a task of very large size (1851 KiB). The maximum recommended task size is 1000 KiB.\n",
      "                                                                                \r"
     ]
    }
   ],
   "source": [
    "categorical_cols = ['product_id', 'store_id', 'day_of_week', 'product_category', 'product_type', 'product_detail']\n",
    "num_cols = ['hour_of_day', 'hour_day_interaction']\n",
    "feature_df = create_features(\n",
    "    grouped_df, \n",
    "    categorical_cols=categorical_cols, \n",
    "    num_cols=num_cols\n",
    ")"
   ]
  },
  {
   "cell_type": "code",
   "execution_count": 10,
   "id": "f6936933-323d-4eb5-8c80-a1ef9bb98881",
   "metadata": {},
   "outputs": [
    {
     "name": "stderr",
     "output_type": "stream",
     "text": [
      "24/07/29 21:17:27 WARN TaskSetManager: Stage 38 contains a task of very large size (2106 KiB). The maximum recommended task size is 1000 KiB.\n",
      "                                                                                \r"
     ]
    },
    {
     "data": {
      "text/html": [
       "<div>\n",
       "<style scoped>\n",
       "    .dataframe tbody tr th:only-of-type {\n",
       "        vertical-align: middle;\n",
       "    }\n",
       "\n",
       "    .dataframe tbody tr th {\n",
       "        vertical-align: top;\n",
       "    }\n",
       "\n",
       "    .dataframe thead th {\n",
       "        text-align: right;\n",
       "    }\n",
       "</style>\n",
       "<table border=\"1\" class=\"dataframe\">\n",
       "  <thead>\n",
       "    <tr style=\"text-align: right;\">\n",
       "      <th></th>\n",
       "      <th>day_of_week</th>\n",
       "      <th>hour_of_day</th>\n",
       "      <th>hour_day_interaction</th>\n",
       "      <th>store_id</th>\n",
       "      <th>product_id</th>\n",
       "      <th>product_category</th>\n",
       "      <th>product_type</th>\n",
       "      <th>product_detail</th>\n",
       "      <th>total_qty</th>\n",
       "      <th>features</th>\n",
       "    </tr>\n",
       "  </thead>\n",
       "  <tbody>\n",
       "    <tr>\n",
       "      <th>0</th>\n",
       "      <td>1</td>\n",
       "      <td>13</td>\n",
       "      <td>13</td>\n",
       "      <td>5.0</td>\n",
       "      <td>24.0</td>\n",
       "      <td>Coffee</td>\n",
       "      <td>Drip coffee</td>\n",
       "      <td>Our Old Time Diner Blend Lg</td>\n",
       "      <td>7.0</td>\n",
       "      <td>(0.0, 0.0, 0.0, 1.0, 0.0, 0.0, 0.0, 0.0, 0.0, ...</td>\n",
       "    </tr>\n",
       "    <tr>\n",
       "      <th>1</th>\n",
       "      <td>1</td>\n",
       "      <td>15</td>\n",
       "      <td>15</td>\n",
       "      <td>3.0</td>\n",
       "      <td>26.0</td>\n",
       "      <td>Coffee</td>\n",
       "      <td>Organic brewed coffee</td>\n",
       "      <td>Brazilian Rg</td>\n",
       "      <td>16.0</td>\n",
       "      <td>(0.0, 0.0, 0.0, 0.0, 0.0, 0.0, 0.0, 0.0, 0.0, ...</td>\n",
       "    </tr>\n",
       "    <tr>\n",
       "      <th>2</th>\n",
       "      <td>2</td>\n",
       "      <td>11</td>\n",
       "      <td>22</td>\n",
       "      <td>3.0</td>\n",
       "      <td>79.0</td>\n",
       "      <td>Bakery</td>\n",
       "      <td>Scone</td>\n",
       "      <td>Jumbo Savory Scone</td>\n",
       "      <td>7.0</td>\n",
       "      <td>(0.0, 0.0, 0.0, 0.0, 0.0, 0.0, 0.0, 0.0, 0.0, ...</td>\n",
       "    </tr>\n",
       "    <tr>\n",
       "      <th>3</th>\n",
       "      <td>2</td>\n",
       "      <td>12</td>\n",
       "      <td>24</td>\n",
       "      <td>3.0</td>\n",
       "      <td>50.0</td>\n",
       "      <td>Tea</td>\n",
       "      <td>Brewed Black tea</td>\n",
       "      <td>Earl Grey Rg</td>\n",
       "      <td>14.0</td>\n",
       "      <td>(0.0, 0.0, 0.0, 0.0, 0.0, 0.0, 0.0, 0.0, 0.0, ...</td>\n",
       "    </tr>\n",
       "    <tr>\n",
       "      <th>4</th>\n",
       "      <td>2</td>\n",
       "      <td>15</td>\n",
       "      <td>30</td>\n",
       "      <td>5.0</td>\n",
       "      <td>69.0</td>\n",
       "      <td>Bakery</td>\n",
       "      <td>Biscotti</td>\n",
       "      <td>Hazelnut Biscotti</td>\n",
       "      <td>6.0</td>\n",
       "      <td>(0.0, 0.0, 0.0, 0.0, 0.0, 0.0, 0.0, 0.0, 0.0, ...</td>\n",
       "    </tr>\n",
       "  </tbody>\n",
       "</table>\n",
       "</div>"
      ],
      "text/plain": [
       "   day_of_week  hour_of_day  hour_day_interaction  store_id  product_id  \\\n",
       "0            1           13                    13       5.0        24.0   \n",
       "1            1           15                    15       3.0        26.0   \n",
       "2            2           11                    22       3.0        79.0   \n",
       "3            2           12                    24       3.0        50.0   \n",
       "4            2           15                    30       5.0        69.0   \n",
       "\n",
       "  product_category           product_type               product_detail  \\\n",
       "0           Coffee            Drip coffee  Our Old Time Diner Blend Lg   \n",
       "1           Coffee  Organic brewed coffee                 Brazilian Rg   \n",
       "2           Bakery                  Scone           Jumbo Savory Scone   \n",
       "3              Tea       Brewed Black tea                 Earl Grey Rg   \n",
       "4           Bakery               Biscotti            Hazelnut Biscotti   \n",
       "\n",
       "   total_qty                                           features  \n",
       "0        7.0  (0.0, 0.0, 0.0, 1.0, 0.0, 0.0, 0.0, 0.0, 0.0, ...  \n",
       "1       16.0  (0.0, 0.0, 0.0, 0.0, 0.0, 0.0, 0.0, 0.0, 0.0, ...  \n",
       "2        7.0  (0.0, 0.0, 0.0, 0.0, 0.0, 0.0, 0.0, 0.0, 0.0, ...  \n",
       "3       14.0  (0.0, 0.0, 0.0, 0.0, 0.0, 0.0, 0.0, 0.0, 0.0, ...  \n",
       "4        6.0  (0.0, 0.0, 0.0, 0.0, 0.0, 0.0, 0.0, 0.0, 0.0, ...  "
      ]
     },
     "execution_count": 10,
     "metadata": {},
     "output_type": "execute_result"
    }
   ],
   "source": [
    "feature_df.limit(5).toPandas()"
   ]
  },
  {
   "cell_type": "markdown",
   "id": "ac138f1a-f7bd-4bbe-b2c6-21367db79936",
   "metadata": {},
   "source": [
    "### Etapa 3: Repartição dos dados em Treino e Teste"
   ]
  },
  {
   "cell_type": "code",
   "execution_count": 11,
   "id": "8927cc68-0f55-4ce9-9aa2-536abdbc5413",
   "metadata": {},
   "outputs": [],
   "source": [
    "# Reparticiona o DataFrame para reduzir o tamanho das tasks\n",
    "feature_df = feature_df.repartition(200)\n",
    "\n",
    "# Renomea a coluna transaction_qty para label\n",
    "feature_df = feature_df.withColumnRenamed('total_qty', 'label')"
   ]
  },
  {
   "cell_type": "code",
   "execution_count": 12,
   "id": "bdcc94ad-b2ed-4543-8570-0a53aa4fd866",
   "metadata": {},
   "outputs": [],
   "source": [
    "# Divide os dados em conjunto de treinamento e teste\n",
    "train_data, test_data = feature_df.randomSplit([0.8, 0.2], seed=123)\n",
    "\n",
    "# Para o conjunto de treinamento só pega a coluna `features`\n",
    "train_data = train_data.select('features', 'label')"
   ]
  },
  {
   "cell_type": "markdown",
   "id": "7adf0a40-02eb-4bf0-8a95-650d259967b1",
   "metadata": {},
   "source": [
    "### Etapa 4: Avaliação de Diferentes Modelos"
   ]
  },
  {
   "cell_type": "code",
   "execution_count": 13,
   "id": "c3a42394-6e71-4ec6-8056-26b57f42d71d",
   "metadata": {},
   "outputs": [],
   "source": [
    "# Define os modelos\n",
    "regressors = {\n",
    "    \"Linear Regression\": LinearRegression(featuresCol='features', labelCol='label'),\n",
    "    \"Decision Tree Regressor\": DecisionTreeRegressor(featuresCol='features', labelCol='label', seed=123),\n",
    "    \"Gradient Boosting Regressor\": GBTRegressor(featuresCol='features', labelCol='label', seed=123),\n",
    "    \"Random Forest Regressor\": RandomForestRegressor(featuresCol='features', labelCol='label', seed=123),\n",
    "}"
   ]
  },
  {
   "cell_type": "code",
   "execution_count": 14,
   "id": "36e96d08-597e-477f-b953-fddf6b475cd4",
   "metadata": {},
   "outputs": [],
   "source": [
    "# Função para treinar e avaliar os modelos\n",
    "def train_and_evaluate(regressor, train_data, test_data):\n",
    "    model = regressor.fit(train_data)\n",
    "    predictions = model.transform(test_data)\n",
    "    evaluator_rmse = RegressionEvaluator(labelCol='label', predictionCol='prediction', metricName='rmse')\n",
    "    evaluator_r2 = RegressionEvaluator(labelCol='label', predictionCol='prediction', metricName='r2')\n",
    "    rmse = evaluator_rmse.evaluate(predictions)\n",
    "    r2 = evaluator_r2.evaluate(predictions)\n",
    "    return rmse, r2, model"
   ]
  },
  {
   "cell_type": "code",
   "execution_count": 15,
   "id": "62ab1f5b-bb3c-4d21-83cf-d8fd8f990e48",
   "metadata": {},
   "outputs": [
    {
     "name": "stderr",
     "output_type": "stream",
     "text": [
      "24/07/29 21:18:01 WARN TaskSetManager: Stage 41 contains a task of very large size (2106 KiB). The maximum recommended task size is 1000 KiB.\n",
      "24/07/29 21:18:10 WARN TaskSetManager: Stage 44 contains a task of very large size (2106 KiB). The maximum recommended task size is 1000 KiB.\n",
      "24/07/29 21:18:12 WARN Instrumentation: [37f3bceb] regParam is zero, which might cause numerical instability and overfitting.\n",
      "24/07/29 21:18:12 WARN InstanceBuilder: Failed to load implementation from:dev.ludovic.netlib.blas.JNIBLAS\n",
      "24/07/29 21:18:12 WARN InstanceBuilder: Failed to load implementation from:dev.ludovic.netlib.blas.VectorBLAS\n",
      "24/07/29 21:18:14 WARN InstanceBuilder: Failed to load implementation from:dev.ludovic.netlib.lapack.JNILAPACK\n",
      "24/07/29 21:18:14 WARN Instrumentation: [37f3bceb] Cholesky solver failed due to singular covariance matrix. Retrying with Quasi-Newton solver.\n",
      "24/07/29 21:18:29 WARN TaskSetManager: Stage 51 contains a task of very large size (2106 KiB). The maximum recommended task size is 1000 KiB.\n",
      "24/07/29 21:18:36 WARN TaskSetManager: Stage 58 contains a task of very large size (2106 KiB). The maximum recommended task size is 1000 KiB.\n",
      "24/07/29 21:18:50 WARN TaskSetManager: Stage 65 contains a task of very large size (2106 KiB). The maximum recommended task size is 1000 KiB.\n",
      "24/07/29 21:19:00 WARN TaskSetManager: Stage 72 contains a task of very large size (2106 KiB). The maximum recommended task size is 1000 KiB.\n",
      "24/07/29 21:19:17 WARN TaskSetManager: Stage 105 contains a task of very large size (2106 KiB). The maximum recommended task size is 1000 KiB.\n",
      "24/07/29 21:19:29 WARN TaskSetManager: Stage 112 contains a task of very large size (2106 KiB). The maximum recommended task size is 1000 KiB.\n",
      "24/07/29 21:19:39 WARN TaskSetManager: Stage 119 contains a task of very large size (2106 KiB). The maximum recommended task size is 1000 KiB.\n",
      "24/07/29 21:19:58 WARN TaskSetManager: Stage 122 contains a task of very large size (2106 KiB). The maximum recommended task size is 1000 KiB.\n",
      "24/07/29 21:21:58 WARN TaskSetManager: Stage 535 contains a task of very large size (2106 KiB). The maximum recommended task size is 1000 KiB.\n",
      "24/07/29 21:22:08 WARN TaskSetManager: Stage 542 contains a task of very large size (2106 KiB). The maximum recommended task size is 1000 KiB.\n",
      "24/07/29 21:22:18 WARN TaskSetManager: Stage 549 contains a task of very large size (2106 KiB). The maximum recommended task size is 1000 KiB.\n",
      "24/07/29 21:22:48 WARN TaskSetManager: Stage 582 contains a task of very large size (2106 KiB). The maximum recommended task size is 1000 KiB.\n",
      "24/07/29 21:23:00 WARN TaskSetManager: Stage 589 contains a task of very large size (2106 KiB). The maximum recommended task size is 1000 KiB.\n",
      "                                                                                \r"
     ]
    }
   ],
   "source": [
    "# Treina e avalia cada modelo\n",
    "results = {}\n",
    "for name, regressor in regressors.items():\n",
    "    rmse, r2, model = train_and_evaluate(regressor, train_data, test_data)\n",
    "    results[name] = {\"RMSE\": rmse, \"R2\": r2, \"model\": model}"
   ]
  },
  {
   "cell_type": "code",
   "execution_count": 16,
   "id": "9f1c8d72-4e8b-435d-a99b-c5e1b86a712b",
   "metadata": {},
   "outputs": [
    {
     "name": "stdout",
     "output_type": "stream",
     "text": [
      "Linear Regression - RMSE: 6.357939970842916, R2: 0.45728439445885105\n",
      "Decision Tree Regressor - RMSE: 5.879814511897173, R2: 0.5358410650444688\n",
      "Gradient Boosting Regressor - RMSE: 4.724532442376335, R2: 0.7003204316626612\n",
      "Random Forest Regressor - RMSE: 5.9876950554543, R2: 0.51865239876116\n",
      "====================\n",
      "Best model: Gradient Boosting Regressor\n"
     ]
    }
   ],
   "source": [
    "# Resultado de cada modelo\n",
    "\n",
    "best_rmse = float('inf')\n",
    "best_model = None\n",
    "best_model_name = None\n",
    "for name, metrics in results.items():\n",
    "    print(f\"{name} - RMSE: {metrics['RMSE']}, R2: {metrics['R2']}\")\n",
    "    if metrics['RMSE'] < best_rmse:\n",
    "        best_rmse = rmse\n",
    "        best_model = model\n",
    "        best_model_name = name\n",
    "print(\"=\"*20)\n",
    "print(f\"Best model: {best_model_name}\")"
   ]
  },
  {
   "cell_type": "markdown",
   "id": "e320cb6f-8a5d-472c-911b-58afde01b308",
   "metadata": {},
   "source": [
    "#### Observação:\n",
    "- As métricas utilizadas para avaliar os modelos foram:\n",
    "  - RMSE (raiz quadrada do erro médio): que mede o quão bem o modelo está prevendo os valores reais;\n",
    "  - R2 : mede o quão bem as variáveis independentes explicam a variabilidade da variável dependente, onde valores próximo de 1 indicam um bom ajuste do modelo\n",
    "- Com base nessas 2 métricas, o modelo **Gradient Boosting Regressor** foi o que apresentou melhor desempenho."
   ]
  },
  {
   "cell_type": "markdown",
   "id": "69c95471-d50f-462d-a727-5a1861daaea6",
   "metadata": {},
   "source": [
    "### Etapa 5: Salva o Modelo Treinado"
   ]
  },
  {
   "cell_type": "code",
   "execution_count": 18,
   "id": "0dda42b9-8e68-427a-a573-0a5ff0e753c6",
   "metadata": {},
   "outputs": [
    {
     "name": "stderr",
     "output_type": "stream",
     "text": [
      "                                                                                \r"
     ]
    }
   ],
   "source": [
    "# Salva o modelo treinado\n",
    "best_model.write().overwrite().save(\"../model\")"
   ]
  },
  {
   "cell_type": "markdown",
   "id": "9314bb71-040f-4e24-ad74-44caa0affa45",
   "metadata": {},
   "source": [
    "### Overview:\n",
    "\n",
    "- A partir das colunas `transaction_time` e `transaction_date` foram criadas as colunas `day_of_week`, `hour_of_day` e \n",
    "`hour_day_interaction`;\n",
    "- Os dados foram agrupados com base nas colunas `day_of_week`, `hour_of_day`, `hour_day_interaction`, `store_id`, `product_id`, `product_category`, `product_type`, `product_detail`, e o `transaction_qty` do grupo foi somado.\n",
    "- `transaction_qty` é o target que o modelo visa prever;\n",
    "- Desta forma, informando `transaction_time`, `transaction_date`, `store_id`, `product_id`, `product_category`, `product_type`, `product_detail`, o modelo é capaz de prever a quantidade de vendas daquele produto para aquela loja naquele tempo;\n",
    "- O modelo treinado foi persistido podendo ser usado mais tarde sem precisar re-treiná-lo."
   ]
  },
  {
   "cell_type": "markdown",
   "id": "e99dd6a0-ed49-4465-abaf-361aee9554de",
   "metadata": {},
   "source": [
    "### Como o modelo pode otimizar os níveis de estoque e minimizar desperdícios\n",
    "- Antecipação de demandas: utilizando o modelo pode-se prever a quantidade de produtos que será vendida em diferentes horários e dias da semana para cada loja, com isso, pode-se garantir que haja estoque suficiente;\n",
    "- Redução de desperdício: sabendo a quantidade de demanda, consegue-se reduzir o desperdício de produtos que não são vendidos e acabam sendo descartados.\n"
   ]
  },
  {
   "cell_type": "markdown",
   "id": "1f71ca02-a2d6-48dc-a355-fd5112f53ff2",
   "metadata": {},
   "source": [
    "### Trabalho Adicional / Próximos Passos\n",
    "- Me pararece que há espaço ainda de evolução para o modelo: novas features poderiam ser criadas, ajustes de hiperparâmetros (grid search);\n",
    "- Gostaria de entender (simular) se uma separação de dados de treinamento e teste que leve em consideração a ordem temporal dos dados seria mais correta;\n"
   ]
  },
  {
   "cell_type": "markdown",
   "id": "060a89de-7406-44eb-8dca-87a308ce6b33",
   "metadata": {},
   "source": [
    "### Etapas para aplicação de técnicas de MLOps\n",
    "- Aqui estou entendendo as etapas necessárias para colocar o modelo em produção e disponibilizá-lo;\n",
    "- Como é um modelo supervisionado, ele precisa ser re-treinado com alguma frequencia (semanal, mensal, trimestral, etc), a frequencia ideal vale um estudo a parte;\n",
    "- Para (re-)treinar o modelo, ele precisa consumir esses dados de algum lugar, seja de um banco, do hdfs, etc, e esses dados transacionais devem ser enviados pelas lojas;\n",
    "- Como o modelo foi feito utilizando PySpark, creio que não vai precisar fazer alteração para colocar em produção; \n",
    "- Uma vez re-treinado o modelo, pode-se:\n",
    "  - ou salvar o modelo (etapa offline), e criar uma API (online) que quando fazem uma requisição informando `transaction_time`, `transaction_date`, `store_id`, `product_id`, `product_category`, `product_type`, `product_detail`, retorna a quandidade prevista daquele produto para aquela loja naquele tempo;\n",
    "  - ou já executar o modelo e salvar os resultados das predições do proximo periodo em um banco (etapa offline), e a API (online) só consultaria o resultado já computado."
   ]
  },
  {
   "cell_type": "code",
   "execution_count": null,
   "id": "8e49639b-77c7-41b6-baae-c4165abeb33d",
   "metadata": {},
   "outputs": [],
   "source": []
  },
  {
   "cell_type": "code",
   "execution_count": null,
   "id": "02a2183d-b628-4b73-aa19-189a53f8605e",
   "metadata": {},
   "outputs": [],
   "source": []
  },
  {
   "cell_type": "code",
   "execution_count": null,
   "id": "b79db806-75e2-45c0-9dde-cd57ac6fd62a",
   "metadata": {},
   "outputs": [],
   "source": []
  },
  {
   "cell_type": "code",
   "execution_count": null,
   "id": "679cb708-15ef-4b3f-b257-ca3b4f963bb2",
   "metadata": {},
   "outputs": [],
   "source": []
  }
 ],
 "metadata": {
  "kernelspec": {
   "display_name": "Python 3 (ipykernel)",
   "language": "python",
   "name": "python3"
  },
  "language_info": {
   "codemirror_mode": {
    "name": "ipython",
    "version": 3
   },
   "file_extension": ".py",
   "mimetype": "text/x-python",
   "name": "python",
   "nbconvert_exporter": "python",
   "pygments_lexer": "ipython3",
   "version": "3.11.6"
  }
 },
 "nbformat": 4,
 "nbformat_minor": 5
}
